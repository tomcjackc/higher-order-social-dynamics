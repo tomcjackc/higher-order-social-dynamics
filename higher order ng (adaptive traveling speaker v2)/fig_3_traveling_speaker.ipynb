{
 "cells": [
  {
   "cell_type": "code",
   "execution_count": 7,
   "metadata": {},
   "outputs": [],
   "source": [
    "from enum import unique\n",
    "import importlib\n",
    "import xgi\n",
    "import matplotlib.pyplot as plt\n",
    "import random\n",
    "import numpy as np\n",
    "import itertools\n",
    "from HONG import *\n",
    "import HONG\n",
    "importlib.reload(HONG)\n",
    "import csv\n",
    "from tqdm import tqdm\n",
    "import csv\n",
    "from numpy import genfromtxt\n",
    "import matplotlib as mpl\n",
    "import pandas as pd\n",
    "\n",
    "mpl.style.use('report_style.mplstyle')"
   ]
  },
  {
   "cell_type": "code",
   "execution_count": 8,
   "metadata": {},
   "outputs": [],
   "source": [
    "prop_committed = [0.03]\n",
    "betas = np.linspace(0, 1, 51)\n",
    "ensemble_size = 10\n",
    "run_length = 10**6\n",
    "qs = [1]\n",
    "social_structures = ['InVS15']#, 'LyonSchool', 'SFHH', 'Thiers13']"
   ]
  },
  {
   "cell_type": "code",
   "execution_count": null,
   "metadata": {},
   "outputs": [],
   "source": []
  },
  {
   "cell_type": "markdown",
   "metadata": {},
   "source": [
    "# Plotting"
   ]
  },
  {
   "cell_type": "code",
   "execution_count": 15,
   "metadata": {},
   "outputs": [
    {
     "name": "stdout",
     "output_type": "stream",
     "text": [
      "           0.0      0.02      0.04      0.06      0.08       0.1      0.12  \\\n",
      "0.03  0.028169  0.029343  0.034695  0.039812  0.034296  0.045376  0.039061   \n",
      "\n",
      "          0.14      0.16      0.18  ...      0.82      0.84      0.86  \\\n",
      "0.03  0.048779  0.070141  0.100258  ... -0.943662 -0.943662 -0.943662   \n",
      "\n",
      "          0.88       0.9      0.92      0.94      0.96      0.98       1.0  \n",
      "0.03 -0.943662 -0.943662 -0.943662 -0.943662 -0.943662 -0.943662 -0.943662  \n",
      "\n",
      "[1 rows x 51 columns]\n",
      "0.0     0.028169\n",
      "0.02    0.029343\n",
      "0.04    0.034695\n",
      "0.06    0.039812\n",
      "0.08    0.034296\n",
      "0.1     0.045376\n",
      "0.12    0.039061\n",
      "0.14    0.048779\n",
      "0.16    0.070141\n",
      "0.18    0.100258\n",
      "0.2     0.106291\n",
      "0.22    0.128873\n",
      "0.24    0.188967\n",
      "0.26    0.212277\n",
      "0.28    0.251479\n",
      "0.3     0.442958\n",
      "0.32    0.995305\n",
      "0.34    1.000000\n",
      "0.36    0.990610\n",
      "0.38    1.000000\n",
      "0.4    -0.938967\n",
      "0.42   -0.934272\n",
      "0.44   -0.943662\n",
      "0.46   -0.943662\n",
      "0.48   -0.943662\n",
      "0.5    -0.943662\n",
      "0.52   -0.943662\n",
      "0.54   -0.943662\n",
      "0.56   -0.943662\n",
      "0.58   -0.943662\n",
      "0.6    -0.934272\n",
      "0.62   -0.943662\n",
      "0.64   -0.943662\n",
      "0.66   -0.943662\n",
      "0.68   -0.943662\n",
      "0.7    -0.943662\n",
      "0.72   -0.943662\n",
      "0.74   -0.943662\n",
      "0.76   -0.943662\n",
      "0.78   -0.943662\n",
      "0.8    -0.943662\n",
      "0.82   -0.943662\n",
      "0.84   -0.943662\n",
      "0.86   -0.943662\n",
      "0.88   -0.943662\n",
      "0.9    -0.943662\n",
      "0.92   -0.943662\n",
      "0.94   -0.943662\n",
      "0.96   -0.943662\n",
      "0.98   -0.943662\n",
      "1.0    -0.943662\n",
      "Name: 0.03, dtype: float64\n"
     ]
    },
    {
     "data": {
      "image/png": "[encoded data removed]",
      "text/plain": [
       "<Figure size 432x288 with 1 Axes>"
      ]
     },
     "metadata": {
      "needs_background": "light"
     },
     "output_type": "display_data"
    }
   ],
   "source": [
    "\n",
    "\n",
    "for social_structure in social_structures:\n",
    "    for q in qs:\n",
    "\n",
    "        fname = f'heatmap_res_{len(prop_committed)}x{len(betas)}_{social_structure}_{q}_{run_length}_{ensemble_size}'\n",
    "\n",
    "        data = pd.read_csv(f'finished_outputs/{fname}.csv', index_col=0)\n",
    "        print(data.head())\n",
    "        print(data.iloc[0])\n",
    "        data.T.plot()\n",
    "\n",
    "\n",
    "#         plt.figure(1)\n",
    "#         plt.plot(betas, Astar_list, color='k', linestyle='--', label='A')\n",
    "#         plt.fill_between(betas, Astar25_list, Astar75_list, color='k', alpha=0.2)\n",
    "\n",
    "#         plt.plot(betas, Bstar_list, color='tab:blue', label='B')\n",
    "#         plt.fill_between(betas, Bstar25_list, Bstar75_list, color='tab:blue', alpha=0.2)\n",
    "\n",
    "#         plt.legend(title=r'$x$')\n",
    "#         plt.title(f'{social_structure}_q={q}')\n",
    "#         plt.xlabel(r'$\\beta$')\n",
    "#         plt.ylabel(r'$N^{\\ast}_{x}(\\beta)$')\n",
    "#         plt.savefig(f'figures/fig3b_{social_structure}_{prop_committed}_{run_length}_{ensemble_size}.pdf')\n",
    "#         plt.show()\n",
    "\n",
    "\n"
   ]
  },
  {
   "cell_type": "markdown",
   "metadata": {},
   "source": [
    "# Heat Map"
   ]
  },
  {
   "cell_type": "code",
   "execution_count": null,
   "metadata": {},
   "outputs": [],
   "source": []
  }
 ],
 "metadata": {
  "kernelspec": {
   "display_name": "Python 3",
   "language": "python",
   "name": "python3"
  },
  "language_info": {
   "codemirror_mode": {
    "name": "ipython",
    "version": 3
   },
   "file_extension": ".py",
   "mimetype": "text/x-python",
   "name": "python",
   "nbconvert_exporter": "python",
   "pygments_lexer": "ipython3",
   "version": "3.8.5"
  },
  "vscode": {
   "interpreter": {
    "hash": "35d396ac993c851e0b0e992d34bce81f4de70a22ad3d03be42e3ab5021274cce"
   }
  }
 },
 "nbformat": 4,
 "nbformat_minor": 2
}
