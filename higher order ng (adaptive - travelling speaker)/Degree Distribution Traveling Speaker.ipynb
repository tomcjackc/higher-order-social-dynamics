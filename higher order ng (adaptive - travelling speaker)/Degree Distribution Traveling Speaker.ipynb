{
 "cells": [
  {
   "cell_type": "markdown",
   "metadata": {},
   "source": [
    "# Degree Distribution\n"
   ]
  },
  {
   "cell_type": "code",
   "execution_count": 4,
   "metadata": {},
   "outputs": [],
   "source": [
    "from enum import unique\n",
    "import importlib\n",
    "import xgi\n",
    "import matplotlib.pyplot as plt\n",
    "import random\n",
    "import numpy as np\n",
    "import itertools\n",
    "from HONG import *\n",
    "import HONG\n",
    "import csv\n",
    "from tqdm import tqdm\n",
    "import csv\n",
    "from numpy import genfromtxt\n",
    "import matplotlib as mpl\n",
    "import seaborn as sb\n",
    "import pandas as pd\n",
    "\n",
    "mpl.style.use('report_style.mplstyle')"
   ]
  },
  {
   "cell_type": "code",
   "execution_count": 5,
   "metadata": {},
   "outputs": [],
   "source": [
    "prop_committed = 0.03\n",
    "beta_non_committed = 0.2759\n",
    "beta_committed = 0.2759\n",
    "ensemble_size = 10\n",
    "run_length = 10**5\n",
    "q = 1\n",
    "social_structures = ['InVS15', 'LyonSchool', 'SFHH', 'Thiers13']"
   ]
  },
  {
   "cell_type": "code",
   "execution_count": 34,
   "metadata": {},
   "outputs": [
    {
     "name": "stderr",
     "output_type": "stream",
     "text": [
      "100%|██████████| 1/1 [00:00<00:00, 63.73it/s]\n",
      "100%|██████████| 1/1 [00:00<00:00, 46.29it/s]\n",
      "100%|██████████| 1/1 [00:00<00:00, 30.43it/s]\n",
      "100%|██████████| 1/1 [00:00<00:00, 53.51it/s]\n"
     ]
    }
   ],
   "source": [
    "for i in social_structures:\n",
    "    run_ensemble_experiment(prop_committed, beta_non_committed, beta_committed, ensemble_size, run_length, i, q)"
   ]
  },
  {
   "cell_type": "code",
   "execution_count": 10,
   "metadata": {},
   "outputs": [
    {
     "name": "stdout",
     "output_type": "stream",
     "text": [
      "[-0.5    0.525  1.55   2.575  3.6    4.625  5.65   6.675  7.7    8.725\n",
      "  9.75  10.775 11.8   12.825 13.85  14.875 15.9   16.925 17.95  18.975\n",
      " 20.    21.025 22.05  23.075 24.1   25.125 26.15  27.175 28.2   29.225\n",
      " 30.25  31.275 32.3   33.325 34.35  35.375 36.4   37.425 38.45  39.475\n",
      " 40.5  ]\n"
     ]
    },
    {
     "data": {
      "image/png": "[encoded data removed]",
      "text/plain": [
       "<Figure size 576x378 with 1 Axes>"
      ]
     },
     "metadata": {
      "needs_background": "light"
     },
     "output_type": "display_data"
    },
    {
     "data": {
      "text/plain": [
       "(0.0, 40.0)"
      ]
     },
     "execution_count": 10,
     "metadata": {},
     "output_type": "execute_result"
    },
    {
     "data": {
      "image/png": "[encoded data removed]",
      "text/plain": [
       "<Figure size 576x378 with 1 Axes>"
      ]
     },
     "metadata": {
      "needs_background": "light"
     },
     "output_type": "display_data"
    }
   ],
   "source": [
    "### set params and load data\n",
    "social_structure = 'LyonSchool'\n",
    "output_fname = f'{social_structure}_{prop_committed}_{beta_non_committed}_{beta_committed}_{run_length}_{ensemble_size}'\n",
    "data = pd.read_csv(f'aux_outputs/{output_fname}.csv', header=None)\n",
    "###\n",
    "\n",
    "### split data according to how it is written into the file\n",
    "initial_deg = data.iloc[0::4].to_numpy(dtype=int)\n",
    "# rewire_freq = data.iloc[1::4].to_numpy(dtype=np.int64)[:,0]\n",
    "final_deg = data.iloc[2::4].to_numpy(dtype=int)\n",
    "final_vocab = data.iloc[3::4].values.tolist()\n",
    "###\n",
    "\n",
    "\n",
    "### plot the initial and final degree distributions in the same bins\n",
    "plt.figure(1)\n",
    "same_bin_edges = np.linspace(-0.5, 40.5, num=41)\n",
    "print(same_bin_edges)\n",
    "\n",
    "#initial_bin_edges = np.histogram_bin_edges(initial_deg, bins=20)\n",
    "initial_deg_binned_freq = plt.hist(initial_deg[0], bins=same_bin_edges, label='Initial')\n",
    "plt.legend()\n",
    "plt.show()\n",
    "#final_bin_edges = np.histogram_bin_edges(final_deg, bins=20)\n",
    "final_deg_binned_freq = plt.hist(final_deg[0], bins=same_bin_edges, label='Final', color = 'orange')\n",
    "plt.legend()\n",
    "plt.xlim((0, 40))\n",
    "###"
   ]
  },
  {
   "cell_type": "code",
   "execution_count": null,
   "metadata": {},
   "outputs": [],
   "source": []
  },
  {
   "cell_type": "code",
   "execution_count": null,
   "metadata": {},
   "outputs": [],
   "source": []
  },
  {
   "cell_type": "code",
   "execution_count": null,
   "metadata": {},
   "outputs": [],
   "source": []
  }
 ],
 "metadata": {
  "kernelspec": {
   "display_name": "Python 3",
   "language": "python",
   "name": "python3"
  },
  "language_info": {
   "codemirror_mode": {
    "name": "ipython",
    "version": 3
   },
   "file_extension": ".py",
   "mimetype": "text/x-python",
   "name": "python",
   "nbconvert_exporter": "python",
   "pygments_lexer": "ipython3",
   "version": "3.8.5"
  }
 },
 "nbformat": 4,
 "nbformat_minor": 4
}
