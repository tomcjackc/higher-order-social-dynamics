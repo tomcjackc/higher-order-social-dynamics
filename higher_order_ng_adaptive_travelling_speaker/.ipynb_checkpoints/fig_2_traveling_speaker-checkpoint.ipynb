{
 "cells": [
  {
   "cell_type": "markdown",
   "metadata": {},
   "source": [
    "# Reproducing Fig. 2"
   ]
  },
  {
   "cell_type": "code",
   "execution_count": 4,
   "metadata": {},
   "outputs": [],
   "source": [
    "from enum import unique\n",
    "import importlib\n",
    "import xgi\n",
    "import matplotlib.pyplot as plt\n",
    "import random\n",
    "import numpy as np\n",
    "import itertools\n",
    "from HONG import *\n",
    "import HONG\n",
    "importlib.reload(HONG)\n",
    "import csv\n",
    "from tqdm import tqdm\n",
    "import csv\n",
    "from numpy import genfromtxt\n",
    "import matplotlib as mpl\n",
    "\n",
    "mpl.style.use('report_style.mplstyle')"
   ]
  },
  {
   "cell_type": "markdown",
   "metadata": {},
   "source": [
    "Parameters of the experiment"
   ]
  },
  {
   "cell_type": "code",
   "execution_count": 5,
   "metadata": {},
   "outputs": [],
   "source": [
    "prop_committed = 0.03\n",
    "beta_non_committed = 0.2759\n",
    "beta_committed = 0.2759\n",
    "ensemble_size = 10\n",
    "run_length = 10**5\n",
    "q = 1\n",
    "social_structures = ['InVS15', 'LyonSchool', 'SFHH', 'Thiers13']"
   ]
  },
  {
   "cell_type": "markdown",
   "metadata": {},
   "source": [
    "Run the ensemble experiments"
   ]
  },
  {
   "cell_type": "markdown",
   "metadata": {},
   "source": [
    "\n"
   ]
  },
  {
   "cell_type": "code",
   "execution_count": 6,
   "metadata": {},
   "outputs": [
    {
     "name": "stderr",
     "output_type": "stream",
     "text": [
      "100%|██████████| 20/20 [00:00<00:00, 76.13it/s]\n",
      "100%|██████████| 20/20 [00:00<00:00, 72.55it/s]\n",
      "100%|██████████| 20/20 [00:00<00:00, 84.57it/s]\n",
      "100%|██████████| 20/20 [00:00<00:00, 68.13it/s]\n"
     ]
    }
   ],
   "source": [
    "for i in social_structures[:]:\n",
    "    run_ensemble_experiment(prop_committed, beta_non_committed, beta_committed, ensemble_size, run_length, i)"
   ]
  },
  {
   "cell_type": "markdown",
   "metadata": {},
   "source": [
    "# Plotting"
   ]
  },
  {
   "cell_type": "markdown",
   "metadata": {},
   "source": [
    "Plot results for ensemble experiment on linear time axis"
   ]
  },
  {
   "cell_type": "code",
   "execution_count": 7,
   "metadata": {},
   "outputs": [
    {
     "name": "stdout",
     "output_type": "stream",
     "text": [
      "loaded data\n"
     ]
    },
    {
     "data": {
      "image/png": "[encoded data removed]",
      "text/plain": [
       "<Figure size 432x288 with 1 Axes>"
      ]
     },
     "metadata": {
      "needs_background": "light"
     },
     "output_type": "display_data"
    }
   ],
   "source": [
    "social_structure = 'LyonSchool'\n",
    "\n",
    "fname = f'{social_structure}_{prop_committed}_{beta_non_committed}_{beta_committed}_{run_length}_{ensemble_size}'\n",
    "\n",
    "data = genfromtxt(f'outputs/{fname}.csv', delimiter=',')\n",
    "\n",
    "print('loaded data')\n",
    "\n",
    "A_data = data[0::3,:]\n",
    "B_data = data[1::3,:]\n",
    "AB_data = data[2::3,:]\n",
    "\n",
    "A_data_av = np.median(A_data, axis=0)\n",
    "A_data_25 = np.percentile(A_data, 25, axis=0)\n",
    "A_data_75 = np.percentile(A_data, 75, axis=0)\n",
    "B_data_av = np.median(B_data, axis=0)\n",
    "B_data_25 = np.percentile(B_data, 25, axis=0)\n",
    "B_data_75 = np.percentile(B_data, 75, axis=0)\n",
    "AB_data_av = np.median(AB_data, axis=0)\n",
    "AB_data_25 = np.percentile(AB_data, 25, axis=0)\n",
    "AB_data_75 = np.percentile(AB_data, 75, axis=0)\n",
    "\n",
    "t = np.linspace(0, run_length, num=run_length+1, endpoint=True)\n",
    "\n",
    "plt.figure(1)\n",
    "plt.plot(t, A_data_av, color='tab:blue', label='A')\n",
    "plt.fill_between(t, y1=A_data_25, y2=A_data_75, color='tab:blue', alpha=0.2)\n",
    "plt.plot(t, B_data_av, color='tab:orange', label='B')\n",
    "plt.fill_between(t, y1=B_data_25, y2=B_data_75, color='tab:orange', alpha=0.2)\n",
    "plt.plot(t, AB_data_av, color='tab:green', label='A,B')\n",
    "plt.fill_between(t, y1=AB_data_25, y2=AB_data_75, color='tab:green', alpha=0.2)\n",
    "plt.legend(title=social_structure)\n",
    "plt.xlabel(r'$t$ / number of interactions')\n",
    "plt.ylabel(r'$N_{x}(t)$')\n",
    "plt.legend(title=r'$x$')\n",
    "plt.savefig(f'figures/{fname}_lintime.pdf')\n",
    "plt.show()"
   ]
  },
  {
   "cell_type": "markdown",
   "metadata": {},
   "source": [
    "Produces multiple logarithmic plots of individual ensemble experiments"
   ]
  },
  {
   "cell_type": "code",
   "execution_count": 8,
   "metadata": {},
   "outputs": [
    {
     "name": "stdout",
     "output_type": "stream",
     "text": [
      "loaded data\n"
     ]
    },
    {
     "data": {
      "image/png": "[encoded data removed]",
      "text/plain": [
       "<Figure size 432x288 with 1 Axes>"
      ]
     },
     "metadata": {
      "needs_background": "light"
     },
     "output_type": "display_data"
    }
   ],
   "source": [
    "social_structures = {'InVS15':0, 'LyonSchool':0, 'SFHH':0, 'Thiers13':0}\n",
    "\n",
    "for social_structure in list(social_structures.keys()):\n",
    "    fname = f'{social_structure}_{prop_committed}_{beta_non_committed}_{beta_committed}_{run_length}_{ensemble_size}'\n",
    "\n",
    "    data = genfromtxt(f'outputs/{fname}.csv', delimiter=',')\n",
    "\n",
    "    print('loaded data')\n",
    "\n",
    "    A_data = data[0::3,:]\n",
    "    B_data = data[1::3,:]\n",
    "    AB_data = data[2::3,:]\n",
    "\n",
    "    N = A_data[0,0]+B_data[0,0]+AB_data[0,0]\n",
    "\n",
    "    A_data = A_data/N\n",
    "    B_data = B_data/N\n",
    "    AB_data = AB_data/N\n",
    "\n",
    "    A_data_av = np.median(A_data, axis=0)\n",
    "    A_data_25 = np.percentile(A_data, 25, axis=0)\n",
    "    A_data_75 = np.percentile(A_data, 75, axis=0)\n",
    "    B_data_av = np.median(B_data, axis=0)\n",
    "    B_data_25 = np.percentile(B_data, 25, axis=0)\n",
    "    B_data_75 = np.percentile(B_data, 75, axis=0)\n",
    "    AB_data_av = np.median(AB_data, axis=0)\n",
    "    AB_data_25 = np.percentile(AB_data, 25, axis=0)\n",
    "    AB_data_75 = np.percentile(AB_data, 75, axis=0)\n",
    "\n",
    "    t = np.linspace(0, run_length, num=run_length+1, endpoint=True)\n",
    "\n",
    "    plt.figure()\n",
    "    plt.plot(t, A_data_av, color='tab:blue', label='A')\n",
    "    plt.fill_between(t, y1=A_data_25, y2=A_data_75, color='tab:blue', alpha=0.2)\n",
    "    plt.plot(t, B_data_av, color='tab:orange', label='B')\n",
    "    plt.fill_between(t, y1=B_data_25, y2=B_data_75, color='tab:orange', alpha=0.2)\n",
    "    plt.plot(t, AB_data_av, color='tab:green', label='A,B')\n",
    "    plt.fill_between(t, y1=AB_data_25, y2=AB_data_75, color='tab:green', alpha=0.2)\n",
    "    plt.xscale('log')\n",
    "    plt.title(r'$\\beta$' + f' = {beta_non_committed}')\n",
    "    plt.xlabel('$t$ / number of interactions')\n",
    "    plt.ylabel(r'$N_{x}(t)$')\n",
    "    plt.legend(title=r'$x$')\n",
    "    plt.savefig(f'figures/{fname}_logtime.pdf')\n",
    "    plt.show()"
   ]
  },
  {
   "cell_type": "markdown",
   "metadata": {},
   "source": [
    "Full reproduction of plots"
   ]
  },
  {
   "cell_type": "code",
   "execution_count": 9,
   "metadata": {},
   "outputs": [
    {
     "name": "stdout",
     "output_type": "stream",
     "text": [
      "loaded data\n",
      "loaded data\n",
      "loaded data\n",
      "loaded data\n"
     ]
    },
    {
     "data": {
      "image/png": "[encoded data removed]",
      "text/plain": [
       "<Figure size 432x288 with 1 Axes>"
      ]
     },
     "metadata": {
      "needs_background": "light"
     },
     "output_type": "display_data"
    },
    {
     "name": "stdout",
     "output_type": "stream",
     "text": [
      "loaded data\n",
      "loaded data\n",
      "loaded data\n",
      "loaded data\n"
     ]
    },
    {
     "data": {
      "image/png": "[encoded data removed]",
      "text/plain": [
       "<Figure size 432x288 with 1 Axes>"
      ]
     },
     "metadata": {
      "needs_background": "light"
     },
     "output_type": "display_data"
    }
   ],
   "source": [
    "social_structures = {'InVS15':0, 'LyonSchool':0, 'SFHH':0, 'Thiers13':0}\n",
    "\n",
    "for social_structure in social_structures:\n",
    "    fname = f'{social_structure}_{prop_committed}_{beta_non_committed}_{beta_committed}_{run_length}_{ensemble_size}'\n",
    "    data = genfromtxt(f'outputs/{fname}.csv', delimiter=',')\n",
    "\n",
    "    print('loaded data')\n",
    "    A_data = data[0::3,:]\n",
    "    B_data = data[1::3,:]\n",
    "    AB_data = data[2::3,:]\n",
    "\n",
    "    N = A_data[0,0]+B_data[0,0]+AB_data[0,0]\n",
    "\n",
    "    B_data = B_data/N\n",
    "    \n",
    "    B_data_av = np.median(B_data, axis=0)\n",
    "    B_data_25 = np.percentile(B_data, 25, axis=0)\n",
    "    B_data_75 = np.percentile(B_data, 75, axis=0)\n",
    "    t = np.linspace(0, run_length, num=run_length+1, endpoint=True)\n",
    "\n",
    "    plt.plot(t, B_data_av, label = social_structure)\n",
    "    plt.fill_between(t, y1=B_data_25, y2=B_data_75, alpha=0.2)\n",
    "\n",
    "    plt.xlabel('$t$ / number of interactions', fontsize=16)\n",
    "    plt.ylabel(r'$n_{B+B_c}(t)$', fontsize=16)\n",
    "\n",
    "fname = f'allstructures_{prop_committed}_{beta_non_committed}_{beta_committed}_{run_length}_{ensemble_size}'\n",
    "plt.legend()\n",
    "plt.title(r'$\\beta$' + f' = {beta_non_committed}')\n",
    "plt.xscale('log')\n",
    "plt.xlim((1e2, 1e6))\n",
    "plt.savefig(f'figures/{fname}_B_logtime.pdf')\n",
    "plt.show()\n",
    "\n",
    "\n",
    "social_structures = {'InVS15':217, 'LyonSchool':218, 'SFHH':255, 'Thiers13':327}\n",
    "\n",
    "for social_structure in social_structures:\n",
    "    fname = f'{social_structure}_{prop_committed}_{beta_non_committed}_{beta_committed}_{run_length}_{ensemble_size}'\n",
    "    N = social_structures[social_structure]\n",
    "    data = genfromtxt(f'outputs/{fname}.csv', delimiter=',')/N\n",
    "\n",
    "    print('loaded data')\n",
    "    A_data = data[0::3,:]\n",
    "    B_data = data[1::3,:]\n",
    "    AB_data = data[2::3,:]\n",
    "\n",
    "    N = A_data[0,0]+B_data[0,0]+AB_data[0,0]\n",
    "\n",
    "    AB_data = AB_data/N\n",
    "    \n",
    "    AB_data_av = np.median(AB_data, axis=0)\n",
    "    AB_data_25 = np.percentile(AB_data, 25, axis=0)\n",
    "    AB_data_75 = np.percentile(AB_data, 75, axis=0)\n",
    "    t = np.linspace(0, run_length, num=run_length+1, endpoint=True)\n",
    "\n",
    "    plt.plot(t, AB_data_av, label = social_structure)\n",
    "    plt.fill_between(t, y1=AB_data_25, y2=AB_data_75, alpha=0.2)\n",
    "\n",
    "    plt.xlabel('$t$ / number of interactions', fontsize=16)\n",
    "    plt.ylabel(r'$n_{AB}(t)$', fontsize=16)\n",
    "\n",
    "fname = f'allstructures_{prop_committed}_{beta_non_committed}_{beta_committed}_{run_length}_{ensemble_size}'\n",
    "plt.legend()\n",
    "plt.xscale('log')\n",
    "plt.xlim((1e2, 1e6))\n",
    "plt.title(r'$\\beta$' + f' = {beta_non_committed}')\n",
    "plt.savefig(f'figures/{fname}_AB_logtime.pdf')\n",
    "plt.show()"
   ]
  },
  {
   "cell_type": "code",
   "execution_count": null,
   "metadata": {},
   "outputs": [],
   "source": []
  }
 ],
 "metadata": {
  "kernelspec": {
   "display_name": "Python 3",
   "language": "python",
   "name": "python3"
  },
  "language_info": {
   "codemirror_mode": {
    "name": "ipython",
    "version": 3
   },
   "file_extension": ".py",
   "mimetype": "text/x-python",
   "name": "python",
   "nbconvert_exporter": "python",
   "pygments_lexer": "ipython3",
   "version": "3.8.5"
  },
  "vscode": {
   "interpreter": {
    "hash": "35d396ac993c851e0b0e992d34bce81f4de70a22ad3d03be42e3ab5021274cce"
   }
  }
 },
 "nbformat": 4,
 "nbformat_minor": 2
}
