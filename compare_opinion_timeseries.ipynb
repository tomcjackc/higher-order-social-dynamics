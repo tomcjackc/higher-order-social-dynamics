{
 "cells": [
  {
   "cell_type": "code",
   "execution_count": null,
   "metadata": {},
   "outputs": [],
   "source": [
    "import numpy as np\n",
    "import scipy as sp\n",
    "import matplot\n",
    "\n",
    "simulation_data_path = 'higher order ng (adaptive traveling speaker v2)/outputs/'\n",
    "integration_data_path = 'mean-field_studies/preacher/numerical_integration/outputs/'"
   ]
  }
 ],
 "metadata": {
  "kernelspec": {
   "display_name": "complexityandnetworks",
   "language": "python",
   "name": "python3"
  },
  "language_info": {
   "name": "python",
   "version": "3.7.12"
  },
  "orig_nbformat": 4,
  "vscode": {
   "interpreter": {
    "hash": "35d396ac993c851e0b0e992d34bce81f4de70a22ad3d03be42e3ab5021274cce"
   }
  }
 },
 "nbformat": 4,
 "nbformat_minor": 2
}
