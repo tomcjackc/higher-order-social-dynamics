{
 "cells": [
  {
   "attachments": {},
   "cell_type": "markdown",
   "metadata": {},
   "source": [
    "# Investigating degree distributions"
   ]
  },
  {
   "cell_type": "code",
   "execution_count": 1,
   "metadata": {},
   "outputs": [
    {
     "name": "stdout",
     "output_type": "stream",
     "text": [
      "update18\n",
      "update18\n"
     ]
    }
   ],
   "source": [
    "from enum import unique\n",
    "import importlib\n",
    "import xgi\n",
    "import matplotlib.pyplot as plt\n",
    "import random\n",
    "import numpy as np\n",
    "import itertools\n",
    "from HONG import *\n",
    "import HONG\n",
    "importlib.reload(HONG)\n",
    "import csv\n",
    "from tqdm import tqdm\n",
    "import csv\n",
    "from numpy import genfromtxt\n",
    "import matplotlib as mpl\n",
    "import seaborn as sb\n",
    "import pandas as pd\n",
    "\n",
    "mpl.style.use('report_style.mplstyle')"
   ]
  },
  {
   "cell_type": "code",
   "execution_count": 4,
   "metadata": {},
   "outputs": [],
   "source": [
    "props = [0.03]\n",
    "betas = [0.27]\n",
    "q_non_committed = 1\n",
    "q_committed = 1\n",
    "\n",
    "ensemble_size = 20\n",
    "run_length = 10**6\n",
    "social_structures = ['InVS15', 'LyonSchool', 'SFHH', 'Thiers13']"
   ]
  },
  {
   "cell_type": "code",
   "execution_count": 5,
   "metadata": {},
   "outputs": [
    {
     "name": "stdout",
     "output_type": "stream",
     "text": [
      "(0.03, 0.27)\n"
     ]
    },
    {
     "name": "stderr",
     "output_type": "stream",
     "text": [
      "  5%|▌         | 1/20 [05:06<1:36:59, 306.29s/it]"
     ]
    },
    {
     "name": "stdout",
     "output_type": "stream",
     "text": [
      "size of largest connected component = 166\n",
      "sizes of connected components = [1, 166, 1, 1, 4, 3, 1, 1, 1, 1, 2, 2, 1, 1, 1, 1, 1, 4, 2, 1, 2, 1, 1, 1, 1, 2, 1, 1, 1, 1, 1, 1, 1, 1, 1, 1, 1, 1, 1, 2, 1, 1, 1, 1, 1, 1, 1, 2, 1, 1, 1, 1, 1, 1, 1, 1, 1, 1, 1, 1, 1, 1]\n",
      "number of connected components = 62\n",
      "number of isolates = 51\n"
     ]
    },
    {
     "name": "stderr",
     "output_type": "stream",
     "text": [
      "  5%|▌         | 1/20 [07:19<2:19:09, 439.44s/it]\n"
     ]
    },
    {
     "ename": "KeyboardInterrupt",
     "evalue": "",
     "output_type": "error",
     "traceback": [
      "\u001b[0;31m---------------------------------------------------------------------------\u001b[0m",
      "\u001b[0;31mKeyboardInterrupt\u001b[0m                         Traceback (most recent call last)",
      "\u001b[0;32m/var/folders/pq/m1s3wh755x9fhcy2gq520_3r0000gn/T/ipykernel_39732/566108885.py\u001b[0m in \u001b[0;36m<module>\u001b[0;34m\u001b[0m\n\u001b[1;32m      3\u001b[0m         \u001b[0;32mfor\u001b[0m \u001b[0mbeta\u001b[0m \u001b[0;32min\u001b[0m \u001b[0mbetas\u001b[0m\u001b[0;34m:\u001b[0m\u001b[0;34m\u001b[0m\u001b[0;34m\u001b[0m\u001b[0m\n\u001b[1;32m      4\u001b[0m             \u001b[0mprint\u001b[0m\u001b[0;34m(\u001b[0m\u001b[0;34m(\u001b[0m\u001b[0mprop\u001b[0m\u001b[0;34m,\u001b[0m \u001b[0mbeta\u001b[0m\u001b[0;34m)\u001b[0m\u001b[0;34m)\u001b[0m\u001b[0;34m\u001b[0m\u001b[0;34m\u001b[0m\u001b[0m\n\u001b[0;32m----> 5\u001b[0;31m             \u001b[0mrun_ensemble_experiment\u001b[0m\u001b[0;34m(\u001b[0m\u001b[0mprop\u001b[0m\u001b[0;34m,\u001b[0m \u001b[0mbeta\u001b[0m\u001b[0;34m,\u001b[0m \u001b[0mbeta\u001b[0m\u001b[0;34m,\u001b[0m \u001b[0mensemble_size\u001b[0m\u001b[0;34m,\u001b[0m \u001b[0mrun_length\u001b[0m\u001b[0;34m,\u001b[0m \u001b[0mi\u001b[0m\u001b[0;34m,\u001b[0m \u001b[0mq_non_committed\u001b[0m\u001b[0;34m=\u001b[0m\u001b[0mq_non_committed\u001b[0m\u001b[0;34m,\u001b[0m \u001b[0mq_committed\u001b[0m\u001b[0;34m=\u001b[0m\u001b[0mq_committed\u001b[0m\u001b[0;34m)\u001b[0m\u001b[0;34m\u001b[0m\u001b[0;34m\u001b[0m\u001b[0m\n\u001b[0m",
      "\u001b[0;32m~/Documents/GitHub/higher-order-social-dynamics/higher order ng (adaptive - outcasts)/HONG.py\u001b[0m in \u001b[0;36mrun_ensemble_experiment\u001b[0;34m(prop_committed, beta_non_committed, beta_committed, ensemble_size, run_length, social_structure, rule, thr, q_non_committed, q_committed, display_num)\u001b[0m\n\u001b[1;32m    303\u001b[0m         \u001b[0;32mwith\u001b[0m \u001b[0mopen\u001b[0m\u001b[0;34m(\u001b[0m\u001b[0;34mf'outputs/{output_fname}.csv'\u001b[0m\u001b[0;34m,\u001b[0m \u001b[0;34m'a'\u001b[0m\u001b[0;34m)\u001b[0m \u001b[0;32mas\u001b[0m \u001b[0mf\u001b[0m\u001b[0;34m:\u001b[0m\u001b[0;34m\u001b[0m\u001b[0;34m\u001b[0m\u001b[0m\n\u001b[1;32m    304\u001b[0m             \u001b[0mwrite\u001b[0m \u001b[0;34m=\u001b[0m \u001b[0mcsv\u001b[0m\u001b[0;34m.\u001b[0m\u001b[0mwriter\u001b[0m\u001b[0;34m(\u001b[0m\u001b[0mf\u001b[0m\u001b[0;34m)\u001b[0m\u001b[0;34m\u001b[0m\u001b[0;34m\u001b[0m\u001b[0m\n\u001b[0;32m--> 305\u001b[0;31m             \u001b[0mstats\u001b[0m\u001b[0;34m,\u001b[0m \u001b[0mfinal_deg\u001b[0m\u001b[0;34m,\u001b[0m \u001b[0mfinal_vocab_list\u001b[0m \u001b[0;34m=\u001b[0m \u001b[0mH\u001b[0m\u001b[0;34m.\u001b[0m\u001b[0mrun\u001b[0m\u001b[0;34m(\u001b[0m\u001b[0mrun_length\u001b[0m\u001b[0;34m,\u001b[0m \u001b[0;32mFalse\u001b[0m\u001b[0;34m,\u001b[0m \u001b[0mdisplay_num\u001b[0m\u001b[0;34m=\u001b[0m\u001b[0mdisplay_num\u001b[0m\u001b[0;34m)\u001b[0m\u001b[0;34m\u001b[0m\u001b[0;34m\u001b[0m\u001b[0m\n\u001b[0m\u001b[1;32m    306\u001b[0m             \u001b[0mwrite\u001b[0m\u001b[0;34m.\u001b[0m\u001b[0mwriterow\u001b[0m\u001b[0;34m(\u001b[0m\u001b[0mstats\u001b[0m\u001b[0;34m[\u001b[0m\u001b[0;34m'A'\u001b[0m\u001b[0;34m]\u001b[0m\u001b[0;34m)\u001b[0m\u001b[0;34m\u001b[0m\u001b[0;34m\u001b[0m\u001b[0m\n\u001b[1;32m    307\u001b[0m             \u001b[0mwrite\u001b[0m\u001b[0;34m.\u001b[0m\u001b[0mwriterow\u001b[0m\u001b[0;34m(\u001b[0m\u001b[0mstats\u001b[0m\u001b[0;34m[\u001b[0m\u001b[0;34m'B'\u001b[0m\u001b[0;34m]\u001b[0m\u001b[0;34m)\u001b[0m\u001b[0;34m\u001b[0m\u001b[0;34m\u001b[0m\u001b[0m\n",
      "\u001b[0;32m~/Documents/GitHub/higher-order-social-dynamics/higher order ng (adaptive - outcasts)/HONG.py\u001b[0m in \u001b[0;36mrun\u001b[0;34m(self, runlength, verbose, display_num)\u001b[0m\n\u001b[1;32m    250\u001b[0m             \u001b[0;31m# else:\u001b[0m\u001b[0;34m\u001b[0m\u001b[0;34m\u001b[0m\u001b[0;34m\u001b[0m\u001b[0m\n\u001b[1;32m    251\u001b[0m             \u001b[0;31m#     diff_dict = self.interact_and_advance(verbose=verbose, display=False)\u001b[0m\u001b[0;34m\u001b[0m\u001b[0;34m\u001b[0m\u001b[0;34m\u001b[0m\u001b[0m\n\u001b[0;32m--> 252\u001b[0;31m             \u001b[0mdiff_dict\u001b[0m \u001b[0;34m=\u001b[0m \u001b[0mself\u001b[0m\u001b[0;34m.\u001b[0m\u001b[0minteract_and_advance\u001b[0m\u001b[0;34m(\u001b[0m\u001b[0mverbose\u001b[0m\u001b[0;34m=\u001b[0m\u001b[0mverbose\u001b[0m\u001b[0;34m,\u001b[0m \u001b[0mdisplay\u001b[0m\u001b[0;34m=\u001b[0m\u001b[0;32mFalse\u001b[0m\u001b[0;34m)\u001b[0m\u001b[0;34m\u001b[0m\u001b[0;34m\u001b[0m\u001b[0m\n\u001b[0m\u001b[1;32m    253\u001b[0m             \u001b[0mvocab_counts\u001b[0m\u001b[0;34m[\u001b[0m\u001b[0;34m'A'\u001b[0m\u001b[0;34m]\u001b[0m\u001b[0;34m[\u001b[0m\u001b[0mi\u001b[0m\u001b[0;34m+\u001b[0m\u001b[0;36m1\u001b[0m\u001b[0;34m]\u001b[0m \u001b[0;34m=\u001b[0m \u001b[0mvocab_counts\u001b[0m\u001b[0;34m[\u001b[0m\u001b[0;34m'A'\u001b[0m\u001b[0;34m]\u001b[0m\u001b[0;34m[\u001b[0m\u001b[0mi\u001b[0m\u001b[0;34m]\u001b[0m \u001b[0;34m+\u001b[0m \u001b[0mdiff_dict\u001b[0m\u001b[0;34m[\u001b[0m\u001b[0;34m'A'\u001b[0m\u001b[0;34m]\u001b[0m\u001b[0;34m\u001b[0m\u001b[0;34m\u001b[0m\u001b[0m\n\u001b[1;32m    254\u001b[0m             \u001b[0mvocab_counts\u001b[0m\u001b[0;34m[\u001b[0m\u001b[0;34m'B'\u001b[0m\u001b[0;34m]\u001b[0m\u001b[0;34m[\u001b[0m\u001b[0mi\u001b[0m\u001b[0;34m+\u001b[0m\u001b[0;36m1\u001b[0m\u001b[0;34m]\u001b[0m \u001b[0;34m=\u001b[0m \u001b[0mvocab_counts\u001b[0m\u001b[0;34m[\u001b[0m\u001b[0;34m'B'\u001b[0m\u001b[0;34m]\u001b[0m\u001b[0;34m[\u001b[0m\u001b[0mi\u001b[0m\u001b[0;34m]\u001b[0m \u001b[0;34m+\u001b[0m \u001b[0mdiff_dict\u001b[0m\u001b[0;34m[\u001b[0m\u001b[0;34m'B'\u001b[0m\u001b[0;34m]\u001b[0m\u001b[0;34m\u001b[0m\u001b[0;34m\u001b[0m\u001b[0m\n",
      "\u001b[0;32m~/Documents/GitHub/higher-order-social-dynamics/higher order ng (adaptive - outcasts)/HONG.py\u001b[0m in \u001b[0;36minteract_and_advance\u001b[0;34m(self, verbose, display)\u001b[0m\n\u001b[1;32m     84\u001b[0m \u001b[0;34m\u001b[0m\u001b[0m\n\u001b[1;32m     85\u001b[0m         \u001b[0medges\u001b[0m \u001b[0;34m=\u001b[0m \u001b[0mself\u001b[0m\u001b[0;34m.\u001b[0m\u001b[0medges\u001b[0m\u001b[0;34m\u001b[0m\u001b[0;34m\u001b[0m\u001b[0m\n\u001b[0;32m---> 86\u001b[0;31m         \u001b[0medge_id\u001b[0m \u001b[0;34m=\u001b[0m \u001b[0mrand\u001b[0m\u001b[0;34m.\u001b[0m\u001b[0mchoice\u001b[0m\u001b[0;34m(\u001b[0m\u001b[0medges\u001b[0m\u001b[0;34m)\u001b[0m\u001b[0;34m\u001b[0m\u001b[0;34m\u001b[0m\u001b[0m\n\u001b[0m\u001b[1;32m     87\u001b[0m         \u001b[0medge\u001b[0m \u001b[0;34m=\u001b[0m \u001b[0mlist\u001b[0m\u001b[0;34m(\u001b[0m\u001b[0mself\u001b[0m\u001b[0;34m.\u001b[0m\u001b[0medges\u001b[0m\u001b[0;34m.\u001b[0m\u001b[0mmembers\u001b[0m\u001b[0;34m(\u001b[0m\u001b[0medge_id\u001b[0m\u001b[0;34m)\u001b[0m\u001b[0;34m)\u001b[0m\u001b[0;34m\u001b[0m\u001b[0;34m\u001b[0m\u001b[0m\n\u001b[1;32m     88\u001b[0m         \u001b[0mspeaker\u001b[0m \u001b[0;34m=\u001b[0m \u001b[0mrand\u001b[0m\u001b[0;34m.\u001b[0m\u001b[0mchoice\u001b[0m\u001b[0;34m(\u001b[0m\u001b[0medge\u001b[0m\u001b[0;34m)\u001b[0m\u001b[0;34m\u001b[0m\u001b[0;34m\u001b[0m\u001b[0m\n",
      "\u001b[0;32mmtrand.pyx\u001b[0m in \u001b[0;36mnumpy.random.mtrand.RandomState.choice\u001b[0;34m()\u001b[0m\n",
      "\u001b[0;32mmtrand.pyx\u001b[0m in \u001b[0;36mnumpy.random.mtrand.RandomState.randint\u001b[0;34m()\u001b[0m\n",
      "\u001b[0;32m_bounded_integers.pyx\u001b[0m in \u001b[0;36mnumpy.random._bounded_integers._rand_int64\u001b[0;34m()\u001b[0m\n",
      "\u001b[0;32m<__array_function__ internals>\u001b[0m in \u001b[0;36mprod\u001b[0;34m(*args, **kwargs)\u001b[0m\n",
      "\u001b[0;31mKeyboardInterrupt\u001b[0m: "
     ]
    }
   ],
   "source": [
    "for i in social_structures[1:2]:\n",
    "    for prop in props:\n",
    "        for beta in betas:\n",
    "            print((prop, beta))\n",
    "            run_ensemble_experiment(prop, beta, beta, ensemble_size, run_length, i, q_non_committed=q_non_committed, q_committed=q_committed)"
   ]
  },
  {
   "attachments": {},
   "cell_type": "markdown",
   "metadata": {},
   "source": [
    "# Plotting degree distribution before and after interactions"
   ]
  },
  {
   "cell_type": "code",
   "execution_count": 85,
   "metadata": {},
   "outputs": [
    {
     "name": "stdout",
     "output_type": "stream",
     "text": [
      "242\n",
      "density of singletons with vocab=['B']: 0.116991643454039\n",
      "density of singletons with vocab=['A']: 0.17084493964716807\n",
      "density of singletons with vocab=['A', 'B'] or ['B', 'A']: 0.7121634168987929\n",
      "\n",
      "255\n",
      "3508\n",
      "0\n",
      "density of multitons with vocab=['B']: 0.9322349189476482\n",
      "density of multitons with vocab=['A']: 0.06776508105235185\n",
      "density of multitons with vocab=['A', 'B'] or ['B', 'A']: 0.0\n",
      "final singleton density: 0.2225206611570248\n"
     ]
    },
    {
     "data": {
      "text/plain": [
       "([<matplotlib.patches.Wedge at 0x7f8d5d795890>,\n",
       "  <matplotlib.patches.Wedge at 0x7f8d5e22b0d0>,\n",
       "  <matplotlib.patches.Wedge at 0x7f8d5e22b910>],\n",
       " [Text(1.075166756279334, 0.23241438464900482, 'A'),\n",
       "  Text(-1.0751667399591776, -0.2324144601472867, 'B'),\n",
       "  Text(1.0999999999999892, 1.5448414929211732e-07, 'AB')],\n",
       " [Text(0.5864545943341821, 0.1267714825358208, '6.8%'),\n",
       "  Text(-0.5864545854322786, -0.1267715237167018, '93.2%'),\n",
       "  Text(0.5999999999999941, 8.426408143206398e-08, '0.0%')])"
      ]
     },
     "execution_count": 85,
     "metadata": {},
     "output_type": "execute_result"
    },
    {
     "data": {
      "image/png": "[encoded data removed]",
      "text/plain": [
       "<Figure size 576x378 with 1 Axes>"
      ]
     },
     "metadata": {
      "needs_background": "light"
     },
     "output_type": "display_data"
    },
    {
     "data": {
      "image/png": "[encoded data removed]",
      "text/plain": [
       "<Figure size 576x378 with 1 Axes>"
      ]
     },
     "metadata": {
      "needs_background": "light"
     },
     "output_type": "display_data"
    },
    {
     "data": {
      "image/png": "[encoded data removed]",
      "text/plain": [
       "<Figure size 576x378 with 1 Axes>"
      ]
     },
     "metadata": {
      "needs_background": "light"
     },
     "output_type": "display_data"
    },
    {
     "data": {
      "image/png": "[encoded data removed]",
      "text/plain": [
       "<Figure size 576x378 with 1 Axes>"
      ]
     },
     "metadata": {
      "needs_background": "light"
     },
     "output_type": "display_data"
    },
    {
     "data": {
      "image/png": "[encoded data removed]",
      "text/plain": [
       "<Figure size 576x378 with 1 Axes>"
      ]
     },
     "metadata": {},
     "output_type": "display_data"
    },
    {
     "data": {
      "image/png": "[encoded data removed]",
      "text/plain": [
       "<Figure size 576x378 with 1 Axes>"
      ]
     },
     "metadata": {},
     "output_type": "display_data"
    }
   ],
   "source": [
    "def str_to_list(s): # this never got used in the end, but it converts strings like \"['A', 'B']\" to lists like ['A', 'B']\n",
    "    s = s.replace('[', '')\n",
    "    s = s.replace(']', '')\n",
    "    s = s.replace(\"'\", '')\n",
    "    s = s.replace(\" \", '')\n",
    "    l = s.split(',')\n",
    "    return l\n",
    "def count_np_occurrences(x, a):\n",
    "    unique, counts = np.unique(a, return_counts=True)\n",
    "    d = dict(zip(unique, counts))\n",
    "    return d[x]\n",
    "\n",
    "### set params and load data\n",
    "social_structure = 'LyonSchool'\n",
    "output_fname = f'{social_structure}_{props[0]}_{betas[0]}_{betas[0]}_{q_non_committed}_{q_committed}_{run_length}_{ensemble_size}'\n",
    "data = pd.read_csv(f'aux_outputs/{output_fname}.csv', header=None)\n",
    "###\n",
    "\n",
    "### split data according to how it is written into the file\n",
    "initial_deg = data.iloc[0::4].to_numpy(dtype=int)\n",
    "# rewire_freq = data.iloc[1::4].to_numpy(dtype=np.int64)[:,0]\n",
    "final_deg = data.iloc[2::4].to_numpy(dtype=int)\n",
    "final_vocab = data.iloc[3::4].values.tolist()\n",
    "###\n",
    "\n",
    "n = initial_deg.shape[1]\n",
    "print(n)\n",
    "\n",
    "### count the number of 0 in the 2-d degree array (total singletons over all runs)\n",
    "total_singletons = count_np_occurrences(0, final_deg)\n",
    "### find where the singletons are located in the 2-d array\n",
    "singleton_locs = np.where(final_deg == 0)\n",
    "\n",
    "### count the number of singletons that have vocab = ['B']\n",
    "B_counter = 0\n",
    "A_counter = 0\n",
    "AB_counter = 0\n",
    "for i in range(total_singletons):\n",
    "    loc = (singleton_locs[0][i], singleton_locs[1][i])\n",
    "    if final_vocab[loc[0]][loc[1]] == \"['B']\":\n",
    "        B_counter += 1\n",
    "    elif final_vocab[loc[0]][loc[1]] == \"['A']\":\n",
    "        A_counter += 1\n",
    "    elif final_vocab[loc[0]][loc[1]] == \"['A', 'B']\" or final_vocab[loc[0]][loc[1]] == \"['B', 'A']\":\n",
    "        AB_counter += 1\n",
    "###\n",
    "\n",
    "### find the fraction of singletons which have different vocabs\n",
    "B_singletons_density = B_counter/total_singletons\n",
    "A_singletons_density = A_counter/total_singletons\n",
    "AB_singletons_density = AB_counter/total_singletons\n",
    "print(f'density of singletons with vocab=[\\'B\\']: {B_singletons_density}')\n",
    "print(f'density of singletons with vocab=[\\'A\\']: {A_singletons_density}')\n",
    "print(f'density of singletons with vocab=[\\'A\\', \\'B\\'] or [\\'B\\', \\'A\\']: {AB_singletons_density}')\n",
    "print()\n",
    "###\n",
    "\n",
    "singleton_locs = [(singleton_locs[0][i], singleton_locs[1][i]) for i in range(total_singletons)]\n",
    "\n",
    "B_counter = 0\n",
    "A_counter = 0\n",
    "AB_counter = 0\n",
    "for i in range(ensemble_size):\n",
    "    for j in range(n):\n",
    "        loc = (i, j)\n",
    "        if loc not in singleton_locs:\n",
    "            if final_vocab[loc[0]][loc[1]] == \"['B']\":\n",
    "                B_counter += 1\n",
    "            elif final_vocab[loc[0]][loc[1]] == \"['A']\":\n",
    "                A_counter += 1\n",
    "            elif final_vocab[loc[0]][loc[1]] == \"['A', 'B']\" or final_vocab[loc[0]][loc[1]] == \"['B', 'A']\":\n",
    "                AB_counter += 1\n",
    "\n",
    "print(A_counter)\n",
    "print(B_counter)\n",
    "print(AB_counter)\n",
    "B_multitons_density = B_counter/((n*ensemble_size)-total_singletons)\n",
    "A_multitons_density = A_counter/((n*ensemble_size)-total_singletons)\n",
    "AB_multitons_density = AB_counter/((n*ensemble_size)-total_singletons)\n",
    "print(f'density of multitons with vocab=[\\'B\\']: {B_multitons_density}')\n",
    "print(f'density of multitons with vocab=[\\'A\\']: {A_multitons_density}')\n",
    "print(f'density of multitons with vocab=[\\'A\\', \\'B\\'] or [\\'B\\', \\'A\\']: {AB_multitons_density}')\n",
    "###\n",
    "\n",
    "### find the average singleton density across all runs\n",
    "av_final_singletons_density = total_singletons/(ensemble_size*n)\n",
    "print(f'final singleton density: {av_final_singletons_density}')\n",
    "###\n",
    "\n",
    "\n",
    "### plot the initial and final degree distributions in the same bins\n",
    "bin_num = 19\n",
    "same_bin_edges = np.linspace(0, 40, num=bin_num+1, endpoint=True)\n",
    "same_bin_centres = [(same_bin_edges[i]+same_bin_edges[i+1])/2 for i in range(bin_num)]\n",
    "\n",
    "plt.figure(1)\n",
    "#initial_bin_edges = np.histogram_bin_edges(initial_deg, bins=20)\n",
    "initial_deg_binned_freq = plt.hist(initial_deg.T, bins=same_bin_edges, label='Initial', alpha=1)[0]\n",
    "mean_initial_deg_binned_freq = np.mean(initial_deg_binned_freq, axis=0)\n",
    "std_initial_deg_binned_freq = np.mean(initial_deg_binned_freq, axis=0)\n",
    "\n",
    "plt.figure(2)\n",
    "plt.stairs(mean_initial_deg_binned_freq, edges=same_bin_edges, label='Initial')\n",
    "plt.errorbar(same_bin_centres, mean_initial_deg_binned_freq, yerr=std_initial_deg_binned_freq/np.sqrt(ensemble_size), linestyle='None', color='tab:blue', capsize=3)\n",
    "plt.legend()\n",
    "plt.xlim((0, 40))\n",
    "plt.xlabel('Degree')\n",
    "plt.ylabel('Frequency Density')\n",
    "plt.savefig(f'figures/initial_deg_dist_{output_fname}.pdf')\n",
    "\n",
    "\n",
    "plt.figure(3)\n",
    "#final_bin_edges = np.histogram_bin_edges(final_deg, bins=20)\n",
    "final_deg_binned_freq = plt.hist(final_deg.T, bins=same_bin_edges, label='Final', alpha=1)[0]\n",
    "mean_final_deg_binned_freq = np.mean(final_deg_binned_freq, axis=0)\n",
    "std_final_deg_binned_freq = np.mean(final_deg_binned_freq, axis=0)\n",
    "\n",
    "\n",
    "plt.figure(4)\n",
    "plt.stairs(mean_final_deg_binned_freq, edges=same_bin_edges, label='Final')\n",
    "plt.errorbar(same_bin_centres, mean_final_deg_binned_freq, yerr=std_final_deg_binned_freq/np.sqrt(ensemble_size), linestyle='None', color='tab:blue', capsize=3)\n",
    "plt.legend()\n",
    "plt.xlim((0, 40))\n",
    "plt.xlabel('Degree')\n",
    "plt.ylabel('Frequency Density')\n",
    "plt.savefig(f'figures/final_deg_dist_{output_fname}.pdf')\n",
    "###\n",
    "\n",
    "plt.figure(5)\n",
    "plt.pie([A_singletons_density, B_singletons_density, AB_singletons_density], labels=['A', 'B', 'AB'], autopct='%.1f%%')\n",
    "\n",
    "plt.figure(6)\n",
    "plt.pie([A_multitons_density, B_multitons_density, AB_multitons_density], labels=['A', 'B', 'AB'], autopct='%.1f%%')\n"
   ]
  },
  {
   "cell_type": "code",
   "execution_count": null,
   "metadata": {},
   "outputs": [],
   "source": []
  },
  {
   "cell_type": "code",
   "execution_count": null,
   "metadata": {},
   "outputs": [],
   "source": []
  }
 ],
 "metadata": {
  "kernelspec": {
   "display_name": "Python 3.7.12 ('complexityandnetworks')",
   "language": "python",
   "name": "python3"
  },
  "language_info": {
   "codemirror_mode": {
    "name": "ipython",
    "version": 3
   },
   "file_extension": ".py",
   "mimetype": "text/x-python",
   "name": "python",
   "nbconvert_exporter": "python",
   "pygments_lexer": "ipython3",
   "version": "3.7.12"
  },
  "orig_nbformat": 4,
  "vscode": {
   "interpreter": {
    "hash": "35d396ac993c851e0b0e992d34bce81f4de70a22ad3d03be42e3ab5021274cce"
   }
  }
 },
 "nbformat": 4,
 "nbformat_minor": 2
}
