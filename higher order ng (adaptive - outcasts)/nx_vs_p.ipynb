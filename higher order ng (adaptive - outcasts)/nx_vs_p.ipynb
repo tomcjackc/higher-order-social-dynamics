{
 "cells": [
  {
   "cell_type": "code",
   "execution_count": 4,
   "metadata": {},
   "outputs": [
    {
     "name": "stdout",
     "output_type": "stream",
     "text": [
      "update18\n"
     ]
    }
   ],
   "source": [
    "from enum import unique\n",
    "import importlib\n",
    "import xgi\n",
    "import matplotlib.pyplot as plt\n",
    "import random\n",
    "import numpy as np\n",
    "import itertools\n",
    "from HONG import *\n",
    "import HONG\n",
    "importlib.reload(HONG)\n",
    "import csv\n",
    "from tqdm import tqdm\n",
    "import csv\n",
    "from numpy import genfromtxt\n",
    "import matplotlib as mpl\n",
    "import seaborn as sb\n",
    "\n",
    "mpl.style.use('report_style.mplstyle')"
   ]
  },
  {
   "cell_type": "code",
   "execution_count": 5,
   "metadata": {},
   "outputs": [],
   "source": [
    "res = 5\n",
    "props = np.linspace(0,0.15,res)\n",
    "betas = np.linspace(0,1,res)\n",
    "q_non_committed = 1\n",
    "q_committed = 1\n",
    "\n",
    "ensemble_size = 2\n",
    "run_length = 10**5\n",
    "social_structures = ['InVS15', 'LyonSchool', 'SFHH', 'Thiers13']"
   ]
  },
  {
   "cell_type": "code",
   "execution_count": 6,
   "metadata": {},
   "outputs": [
    {
     "name": "stdout",
     "output_type": "stream",
     "text": [
      "(0.0, 0.0)\n"
     ]
    },
    {
     "name": "stderr",
     "output_type": "stream",
     "text": [
      " 50%|█████     | 1/2 [00:24<00:24, 24.05s/it]"
     ]
    },
    {
     "name": "stdout",
     "output_type": "stream",
     "text": [
      "size of largest connected component = 242\n",
      "sizes of connected components = [242]\n",
      "number of connected components = 1\n",
      "number of isolates = 0\n"
     ]
    },
    {
     "name": "stderr",
     "output_type": "stream",
     "text": [
      "100%|██████████| 2/2 [00:48<00:00, 24.24s/it]\n"
     ]
    },
    {
     "name": "stdout",
     "output_type": "stream",
     "text": [
      "size of largest connected component = 242\n",
      "sizes of connected components = [242]\n",
      "number of connected components = 1\n",
      "number of isolates = 0\n",
      "(0.0, 0.25)\n"
     ]
    },
    {
     "name": "stderr",
     "output_type": "stream",
     "text": [
      " 50%|█████     | 1/2 [00:24<00:24, 24.79s/it]"
     ]
    },
    {
     "name": "stdout",
     "output_type": "stream",
     "text": [
      "size of largest connected component = 242\n",
      "sizes of connected components = [242]\n",
      "number of connected components = 1\n",
      "number of isolates = 0\n"
     ]
    },
    {
     "name": "stderr",
     "output_type": "stream",
     "text": [
      "100%|██████████| 2/2 [00:49<00:00, 25.00s/it]\n"
     ]
    },
    {
     "name": "stdout",
     "output_type": "stream",
     "text": [
      "size of largest connected component = 242\n",
      "sizes of connected components = [242]\n",
      "number of connected components = 1\n",
      "number of isolates = 0\n",
      "(0.0, 0.5)\n"
     ]
    },
    {
     "name": "stderr",
     "output_type": "stream",
     "text": [
      " 50%|█████     | 1/2 [00:25<00:25, 25.65s/it]"
     ]
    },
    {
     "name": "stdout",
     "output_type": "stream",
     "text": [
      "size of largest connected component = 242\n",
      "sizes of connected components = [242]\n",
      "number of connected components = 1\n",
      "number of isolates = 0\n"
     ]
    },
    {
     "name": "stderr",
     "output_type": "stream",
     "text": [
      "100%|██████████| 2/2 [00:51<00:00, 25.64s/it]\n"
     ]
    },
    {
     "name": "stdout",
     "output_type": "stream",
     "text": [
      "size of largest connected component = 242\n",
      "sizes of connected components = [242]\n",
      "number of connected components = 1\n",
      "number of isolates = 0\n",
      "(0.0, 0.75)\n"
     ]
    },
    {
     "name": "stderr",
     "output_type": "stream",
     "text": [
      " 50%|█████     | 1/2 [00:24<00:24, 24.98s/it]"
     ]
    },
    {
     "name": "stdout",
     "output_type": "stream",
     "text": [
      "size of largest connected component = 242\n",
      "sizes of connected components = [242]\n",
      "number of connected components = 1\n",
      "number of isolates = 0\n"
     ]
    },
    {
     "name": "stderr",
     "output_type": "stream",
     "text": [
      "100%|██████████| 2/2 [00:50<00:00, 25.22s/it]\n"
     ]
    },
    {
     "name": "stdout",
     "output_type": "stream",
     "text": [
      "size of largest connected component = 242\n",
      "sizes of connected components = [242]\n",
      "number of connected components = 1\n",
      "number of isolates = 0\n",
      "(0.0, 1.0)\n"
     ]
    },
    {
     "name": "stderr",
     "output_type": "stream",
     "text": [
      " 50%|█████     | 1/2 [00:26<00:26, 26.20s/it]"
     ]
    },
    {
     "name": "stdout",
     "output_type": "stream",
     "text": [
      "size of largest connected component = 242\n",
      "sizes of connected components = [242]\n",
      "number of connected components = 1\n",
      "number of isolates = 0\n"
     ]
    },
    {
     "name": "stderr",
     "output_type": "stream",
     "text": [
      "100%|██████████| 2/2 [00:52<00:00, 26.14s/it]\n"
     ]
    },
    {
     "name": "stdout",
     "output_type": "stream",
     "text": [
      "size of largest connected component = 242\n",
      "sizes of connected components = [242]\n",
      "number of connected components = 1\n",
      "number of isolates = 0\n",
      "(0.0375, 0.0)\n"
     ]
    },
    {
     "name": "stderr",
     "output_type": "stream",
     "text": [
      " 50%|█████     | 1/2 [00:25<00:25, 25.74s/it]"
     ]
    },
    {
     "name": "stdout",
     "output_type": "stream",
     "text": [
      "size of largest connected component = 242\n",
      "sizes of connected components = [242]\n",
      "number of connected components = 1\n",
      "number of isolates = 0\n"
     ]
    },
    {
     "name": "stderr",
     "output_type": "stream",
     "text": [
      "100%|██████████| 2/2 [00:51<00:00, 25.57s/it]\n"
     ]
    },
    {
     "name": "stdout",
     "output_type": "stream",
     "text": [
      "size of largest connected component = 239\n",
      "sizes of connected components = [239, 3]\n",
      "number of connected components = 2\n",
      "number of isolates = 0\n",
      "(0.0375, 0.25)\n"
     ]
    },
    {
     "name": "stderr",
     "output_type": "stream",
     "text": [
      " 50%|█████     | 1/2 [00:28<00:28, 28.60s/it]"
     ]
    },
    {
     "name": "stdout",
     "output_type": "stream",
     "text": [
      "size of largest connected component = 185\n",
      "sizes of connected components = [12, 185, 2, 1, 1, 1, 1, 1, 1, 1, 1, 1, 2, 1, 2, 1, 2, 2, 1, 1, 2, 1, 1, 1, 1, 1, 1, 1, 1, 2, 1, 1, 1, 1, 1, 1, 1, 1, 1, 1]\n",
      "number of connected components = 40\n",
      "number of isolates = 31\n"
     ]
    },
    {
     "name": "stderr",
     "output_type": "stream",
     "text": [
      "100%|██████████| 2/2 [00:57<00:00, 28.78s/it]\n"
     ]
    },
    {
     "name": "stdout",
     "output_type": "stream",
     "text": [
      "size of largest connected component = 185\n",
      "sizes of connected components = [2, 185, 1, 2, 2, 1, 1, 3, 3, 2, 1, 1, 1, 3, 1, 1, 1, 1, 1, 2, 1, 1, 1, 1, 1, 1, 1, 1, 1, 1, 1, 1, 1, 2, 1, 2, 1, 1, 1, 1, 1, 1, 1, 1, 1]\n",
      "number of connected components = 45\n",
      "number of isolates = 34\n",
      "(0.0375, 0.5)\n"
     ]
    },
    {
     "name": "stderr",
     "output_type": "stream",
     "text": [
      " 50%|█████     | 1/2 [00:25<00:25, 25.40s/it]"
     ]
    },
    {
     "name": "stdout",
     "output_type": "stream",
     "text": [
      "size of largest connected component = 232\n",
      "sizes of connected components = [232, 6, 1, 2, 1]\n",
      "number of connected components = 5\n",
      "number of isolates = 2\n"
     ]
    },
    {
     "name": "stderr",
     "output_type": "stream",
     "text": [
      "100%|██████████| 2/2 [00:50<00:00, 25.19s/it]\n"
     ]
    },
    {
     "name": "stdout",
     "output_type": "stream",
     "text": [
      "size of largest connected component = 233\n",
      "sizes of connected components = [233, 2, 2, 1, 1, 1, 1, 1]\n",
      "number of connected components = 8\n",
      "number of isolates = 5\n",
      "(0.0375, 0.75)\n"
     ]
    },
    {
     "name": "stderr",
     "output_type": "stream",
     "text": [
      " 50%|█████     | 1/2 [00:25<00:25, 25.25s/it]"
     ]
    },
    {
     "name": "stdout",
     "output_type": "stream",
     "text": [
      "size of largest connected component = 232\n",
      "sizes of connected components = [232, 4, 3, 1, 1, 1]\n",
      "number of connected components = 6\n",
      "number of isolates = 3\n"
     ]
    },
    {
     "name": "stderr",
     "output_type": "stream",
     "text": [
      "100%|██████████| 2/2 [00:51<00:00, 25.73s/it]\n"
     ]
    },
    {
     "name": "stdout",
     "output_type": "stream",
     "text": [
      "size of largest connected component = 233\n",
      "sizes of connected components = [233, 2, 1, 1, 2, 1, 1, 1]\n",
      "number of connected components = 8\n",
      "number of isolates = 5\n",
      "(0.0375, 1.0)\n"
     ]
    },
    {
     "name": "stderr",
     "output_type": "stream",
     "text": [
      " 50%|█████     | 1/2 [00:26<00:26, 26.89s/it]"
     ]
    },
    {
     "name": "stdout",
     "output_type": "stream",
     "text": [
      "size of largest connected component = 233\n",
      "sizes of connected components = [233, 3, 1, 2, 1, 1, 1]\n",
      "number of connected components = 7\n",
      "number of isolates = 4\n"
     ]
    },
    {
     "name": "stderr",
     "output_type": "stream",
     "text": [
      "100%|██████████| 2/2 [00:52<00:00, 26.26s/it]\n"
     ]
    },
    {
     "name": "stdout",
     "output_type": "stream",
     "text": [
      "size of largest connected component = 232\n",
      "sizes of connected components = [232, 3, 2, 1, 2, 1, 1]\n",
      "number of connected components = 7\n",
      "number of isolates = 3\n",
      "(0.075, 0.0)\n"
     ]
    },
    {
     "name": "stderr",
     "output_type": "stream",
     "text": [
      " 50%|█████     | 1/2 [00:26<00:26, 26.01s/it]"
     ]
    },
    {
     "name": "stdout",
     "output_type": "stream",
     "text": [
      "size of largest connected component = 242\n",
      "sizes of connected components = [242]\n",
      "number of connected components = 1\n",
      "number of isolates = 0\n"
     ]
    },
    {
     "name": "stderr",
     "output_type": "stream",
     "text": [
      "100%|██████████| 2/2 [00:51<00:00, 25.57s/it]\n"
     ]
    },
    {
     "name": "stdout",
     "output_type": "stream",
     "text": [
      "size of largest connected component = 225\n",
      "sizes of connected components = [225, 16, 1]\n",
      "number of connected components = 3\n",
      "number of isolates = 1\n",
      "(0.075, 0.25)\n"
     ]
    },
    {
     "name": "stderr",
     "output_type": "stream",
     "text": [
      " 50%|█████     | 1/2 [00:27<00:27, 27.83s/it]"
     ]
    },
    {
     "name": "stdout",
     "output_type": "stream",
     "text": [
      "size of largest connected component = 197\n",
      "sizes of connected components = [197, 2, 1, 1, 1, 1, 1, 2, 1, 2, 1, 2, 1, 2, 2, 1, 1, 2, 1, 1, 2, 1, 1, 1, 2, 1, 1, 3, 1, 1, 1, 1, 1, 1, 1]\n",
      "number of connected components = 35\n",
      "number of isolates = 24\n"
     ]
    },
    {
     "name": "stderr",
     "output_type": "stream",
     "text": [
      "100%|██████████| 2/2 [00:55<00:00, 27.64s/it]\n"
     ]
    },
    {
     "name": "stdout",
     "output_type": "stream",
     "text": [
      "size of largest connected component = 194\n",
      "sizes of connected components = [194, 2, 1, 1, 6, 1, 1, 1, 1, 1, 2, 3, 2, 1, 1, 1, 2, 1, 1, 2, 1, 1, 2, 1, 1, 1, 1, 1, 1, 1, 1, 1, 1, 1, 1, 1]\n",
      "number of connected components = 36\n",
      "number of isolates = 27\n",
      "(0.075, 0.5)\n"
     ]
    },
    {
     "name": "stderr",
     "output_type": "stream",
     "text": [
      " 50%|█████     | 1/2 [00:26<00:26, 26.86s/it]"
     ]
    },
    {
     "name": "stdout",
     "output_type": "stream",
     "text": [
      "size of largest connected component = 218\n",
      "sizes of connected components = [218, 21, 1, 1, 1]\n",
      "number of connected components = 5\n",
      "number of isolates = 3\n"
     ]
    },
    {
     "name": "stderr",
     "output_type": "stream",
     "text": [
      "100%|██████████| 2/2 [00:54<00:00, 27.19s/it]\n"
     ]
    },
    {
     "name": "stdout",
     "output_type": "stream",
     "text": [
      "size of largest connected component = 235\n",
      "sizes of connected components = [235, 2, 2, 1, 1, 1]\n",
      "number of connected components = 6\n",
      "number of isolates = 3\n",
      "(0.075, 0.75)\n"
     ]
    },
    {
     "name": "stderr",
     "output_type": "stream",
     "text": [
      " 50%|█████     | 1/2 [00:28<00:28, 28.74s/it]"
     ]
    },
    {
     "name": "stdout",
     "output_type": "stream",
     "text": [
      "size of largest connected component = 224\n",
      "sizes of connected components = [224, 1, 1, 1, 2, 3, 1, 1, 2, 1, 1, 2, 1, 1]\n",
      "number of connected components = 14\n",
      "number of isolates = 9\n"
     ]
    },
    {
     "name": "stderr",
     "output_type": "stream",
     "text": [
      "100%|██████████| 2/2 [00:55<00:00, 27.67s/it]\n"
     ]
    },
    {
     "name": "stdout",
     "output_type": "stream",
     "text": [
      "size of largest connected component = 217\n",
      "sizes of connected components = [217, 12, 1, 1, 1, 1, 1, 1, 2, 1, 1, 1, 1, 1]\n",
      "number of connected components = 14\n",
      "number of isolates = 11\n",
      "(0.075, 1.0)\n"
     ]
    },
    {
     "name": "stderr",
     "output_type": "stream",
     "text": [
      " 50%|█████     | 1/2 [00:26<00:26, 26.68s/it]"
     ]
    },
    {
     "name": "stdout",
     "output_type": "stream",
     "text": [
      "size of largest connected component = 223\n",
      "sizes of connected components = [223, 2, 2, 1, 1, 2, 2, 1, 2, 1, 1, 2, 1, 1]\n",
      "number of connected components = 14\n",
      "number of isolates = 7\n"
     ]
    },
    {
     "name": "stderr",
     "output_type": "stream",
     "text": [
      "100%|██████████| 2/2 [00:51<00:00, 25.92s/it]\n"
     ]
    },
    {
     "name": "stdout",
     "output_type": "stream",
     "text": [
      "size of largest connected component = 224\n",
      "sizes of connected components = [224, 1, 2, 6, 1, 1, 1, 3, 1, 1, 1]\n",
      "number of connected components = 11\n",
      "number of isolates = 7\n",
      "(0.11249999999999999, 0.0)\n"
     ]
    },
    {
     "name": "stderr",
     "output_type": "stream",
     "text": [
      " 50%|█████     | 1/2 [00:24<00:24, 24.39s/it]"
     ]
    },
    {
     "name": "stdout",
     "output_type": "stream",
     "text": [
      "size of largest connected component = 217\n",
      "sizes of connected components = [217, 25]\n",
      "number of connected components = 2\n",
      "number of isolates = 0\n"
     ]
    },
    {
     "name": "stderr",
     "output_type": "stream",
     "text": [
      "100%|██████████| 2/2 [00:52<00:00, 26.25s/it]\n"
     ]
    },
    {
     "name": "stdout",
     "output_type": "stream",
     "text": [
      "size of largest connected component = 242\n",
      "sizes of connected components = [242]\n",
      "number of connected components = 1\n",
      "number of isolates = 0\n",
      "(0.11249999999999999, 0.25)\n"
     ]
    },
    {
     "name": "stderr",
     "output_type": "stream",
     "text": [
      " 50%|█████     | 1/2 [00:27<00:27, 27.33s/it]"
     ]
    },
    {
     "name": "stdout",
     "output_type": "stream",
     "text": [
      "size of largest connected component = 217\n",
      "sizes of connected components = [217, 1, 2, 1, 1, 1, 1, 2, 1, 2, 1, 1, 1, 1, 1, 1, 1, 1, 1, 2, 1, 1]\n",
      "number of connected components = 22\n",
      "number of isolates = 17\n"
     ]
    },
    {
     "name": "stderr",
     "output_type": "stream",
     "text": [
      "100%|██████████| 2/2 [00:53<00:00, 26.86s/it]\n"
     ]
    },
    {
     "name": "stdout",
     "output_type": "stream",
     "text": [
      "size of largest connected component = 200\n",
      "sizes of connected components = [200, 1, 1, 1, 1, 2, 1, 1, 4, 2, 1, 2, 1, 1, 1, 1, 1, 2, 1, 1, 1, 1, 1, 1, 1, 2, 1, 1, 2, 1, 1, 1, 1, 1]\n",
      "number of connected components = 34\n",
      "number of isolates = 26\n",
      "(0.11249999999999999, 0.5)\n"
     ]
    },
    {
     "name": "stderr",
     "output_type": "stream",
     "text": [
      " 50%|█████     | 1/2 [00:24<00:24, 24.60s/it]"
     ]
    },
    {
     "name": "stdout",
     "output_type": "stream",
     "text": [
      "size of largest connected component = 234\n",
      "sizes of connected components = [234, 1, 2, 2, 1, 1, 1]\n",
      "number of connected components = 7\n",
      "number of isolates = 4\n"
     ]
    },
    {
     "name": "stderr",
     "output_type": "stream",
     "text": [
      "100%|██████████| 2/2 [00:52<00:00, 26.47s/it]\n"
     ]
    },
    {
     "name": "stdout",
     "output_type": "stream",
     "text": [
      "size of largest connected component = 236\n",
      "sizes of connected components = [236, 1, 1, 2, 2]\n",
      "number of connected components = 5\n",
      "number of isolates = 2\n",
      "(0.11249999999999999, 0.75)\n"
     ]
    },
    {
     "name": "stderr",
     "output_type": "stream",
     "text": [
      " 50%|█████     | 1/2 [00:24<00:24, 24.65s/it]"
     ]
    },
    {
     "name": "stdout",
     "output_type": "stream",
     "text": [
      "size of largest connected component = 208\n",
      "sizes of connected components = [208, 14, 1, 11, 1, 1, 1, 1, 1, 1, 1, 1]\n",
      "number of connected components = 12\n",
      "number of isolates = 9\n"
     ]
    },
    {
     "name": "stderr",
     "output_type": "stream",
     "text": [
      "100%|██████████| 2/2 [00:50<00:00, 25.10s/it]\n"
     ]
    },
    {
     "name": "stdout",
     "output_type": "stream",
     "text": [
      "size of largest connected component = 152\n",
      "sizes of connected components = [85, 152, 1, 2, 1, 1]\n",
      "number of connected components = 6\n",
      "number of isolates = 3\n",
      "(0.11249999999999999, 1.0)\n"
     ]
    },
    {
     "name": "stderr",
     "output_type": "stream",
     "text": [
      " 50%|█████     | 1/2 [00:25<00:25, 25.68s/it]"
     ]
    },
    {
     "name": "stdout",
     "output_type": "stream",
     "text": [
      "size of largest connected component = 208\n",
      "sizes of connected components = [208, 22, 1, 8, 1, 1, 1]\n",
      "number of connected components = 7\n",
      "number of isolates = 4\n"
     ]
    },
    {
     "name": "stderr",
     "output_type": "stream",
     "text": [
      "100%|██████████| 2/2 [00:50<00:00, 25.03s/it]\n"
     ]
    },
    {
     "name": "stdout",
     "output_type": "stream",
     "text": [
      "size of largest connected component = 214\n",
      "sizes of connected components = [214, 15, 1, 1, 4, 1, 1, 1, 1, 1, 1, 1]\n",
      "number of connected components = 12\n",
      "number of isolates = 9\n",
      "(0.15, 0.0)\n"
     ]
    },
    {
     "name": "stderr",
     "output_type": "stream",
     "text": [
      " 50%|█████     | 1/2 [00:24<00:24, 24.60s/it]"
     ]
    },
    {
     "name": "stdout",
     "output_type": "stream",
     "text": [
      "size of largest connected component = 208\n",
      "sizes of connected components = [208, 34]\n",
      "number of connected components = 2\n",
      "number of isolates = 0\n"
     ]
    },
    {
     "name": "stderr",
     "output_type": "stream",
     "text": [
      "100%|██████████| 2/2 [00:49<00:00, 24.73s/it]\n"
     ]
    },
    {
     "name": "stdout",
     "output_type": "stream",
     "text": [
      "size of largest connected component = 207\n",
      "sizes of connected components = [207, 32, 3]\n",
      "number of connected components = 3\n",
      "number of isolates = 0\n",
      "(0.15, 0.25)\n"
     ]
    },
    {
     "name": "stderr",
     "output_type": "stream",
     "text": [
      " 50%|█████     | 1/2 [00:25<00:25, 25.06s/it]"
     ]
    },
    {
     "name": "stdout",
     "output_type": "stream",
     "text": [
      "size of largest connected component = 211\n",
      "sizes of connected components = [211, 2, 1, 6, 1, 1, 1, 1, 1, 2, 1, 1, 1, 1, 1, 1, 1, 2, 1, 1, 1, 1, 1, 1]\n",
      "number of connected components = 24\n",
      "number of isolates = 19\n"
     ]
    },
    {
     "name": "stderr",
     "output_type": "stream",
     "text": [
      "100%|██████████| 2/2 [00:51<00:00, 25.84s/it]\n"
     ]
    },
    {
     "name": "stdout",
     "output_type": "stream",
     "text": [
      "size of largest connected component = 215\n",
      "sizes of connected components = [215, 2, 2, 3, 1, 1, 1, 2, 2, 1, 1, 1, 3, 1, 1, 1, 2, 1, 1]\n",
      "number of connected components = 19\n",
      "number of isolates = 11\n",
      "(0.15, 0.5)\n"
     ]
    },
    {
     "name": "stderr",
     "output_type": "stream",
     "text": [
      " 50%|█████     | 1/2 [00:25<00:25, 25.86s/it]"
     ]
    },
    {
     "name": "stdout",
     "output_type": "stream",
     "text": [
      "size of largest connected component = 231\n",
      "sizes of connected components = [231, 1, 8, 1, 1]\n",
      "number of connected components = 5\n",
      "number of isolates = 3\n"
     ]
    },
    {
     "name": "stderr",
     "output_type": "stream",
     "text": [
      "100%|██████████| 2/2 [00:51<00:00, 25.55s/it]\n"
     ]
    },
    {
     "name": "stdout",
     "output_type": "stream",
     "text": [
      "size of largest connected component = 241\n",
      "sizes of connected components = [241, 1]\n",
      "number of connected components = 2\n",
      "number of isolates = 1\n",
      "(0.15, 0.75)\n"
     ]
    },
    {
     "name": "stderr",
     "output_type": "stream",
     "text": [
      " 50%|█████     | 1/2 [00:26<00:26, 26.81s/it]"
     ]
    },
    {
     "name": "stdout",
     "output_type": "stream",
     "text": [
      "size of largest connected component = 240\n",
      "sizes of connected components = [240, 2]\n",
      "number of connected components = 2\n",
      "number of isolates = 0\n"
     ]
    },
    {
     "name": "stderr",
     "output_type": "stream",
     "text": [
      "100%|██████████| 2/2 [00:53<00:00, 26.70s/it]\n"
     ]
    },
    {
     "name": "stdout",
     "output_type": "stream",
     "text": [
      "size of largest connected component = 241\n",
      "sizes of connected components = [241, 1]\n",
      "number of connected components = 2\n",
      "number of isolates = 1\n",
      "(0.15, 1.0)\n"
     ]
    },
    {
     "name": "stderr",
     "output_type": "stream",
     "text": [
      " 50%|█████     | 1/2 [00:27<00:27, 27.46s/it]"
     ]
    },
    {
     "name": "stdout",
     "output_type": "stream",
     "text": [
      "size of largest connected component = 195\n",
      "sizes of connected components = [195, 25, 8, 1, 3, 2, 2, 2, 1, 1, 1, 1]\n",
      "number of connected components = 12\n",
      "number of isolates = 5\n"
     ]
    },
    {
     "name": "stderr",
     "output_type": "stream",
     "text": [
      "100%|██████████| 2/2 [00:55<00:00, 27.61s/it]"
     ]
    },
    {
     "name": "stdout",
     "output_type": "stream",
     "text": [
      "size of largest connected component = 197\n",
      "sizes of connected components = [197, 37, 1, 1, 1, 1, 2, 1, 1]\n",
      "number of connected components = 9\n",
      "number of isolates = 6\n"
     ]
    },
    {
     "name": "stderr",
     "output_type": "stream",
     "text": [
      "\n"
     ]
    }
   ],
   "source": [
    "for i in social_structures[1:2]:\n",
    "    for prop in props:\n",
    "        for beta in betas:\n",
    "            print((prop, beta))\n",
    "            run_ensemble_experiment(prop, beta, beta, ensemble_size, run_length, i, q_non_committed=q_non_committed, q_committed=q_committed)"
   ]
  },
  {
   "cell_type": "markdown",
   "metadata": {},
   "source": [
    "# Plotting full"
   ]
  },
  {
   "cell_type": "code",
   "execution_count": 7,
   "metadata": {},
   "outputs": [
    {
     "name": "stdout",
     "output_type": "stream",
     "text": [
      "(0.0, 1.0)\n",
      "0.0\n",
      "(0.0, 0.75)\n",
      "0.0\n",
      "(0.0, 0.5)\n",
      "0.0\n",
      "(0.0, 0.25)\n",
      "0.0\n",
      "(0.0, 0.0)\n",
      "0.0\n",
      "(0.0375, 1.0)\n",
      "0.02066115702479339\n",
      "(0.0375, 0.75)\n",
      "0.028925619834710745\n",
      "(0.0375, 0.5)\n",
      "0.03305785123966942\n",
      "(0.0375, 0.25)\n",
      "0.012396694214876047\n",
      "(0.0375, 0.0)\n",
      "0.0\n",
      "(0.075, 1.0)\n",
      "0.049586776859504134\n",
      "(0.075, 0.75)\n",
      "0.0371900826446281\n",
      "(0.075, 0.5)\n",
      "0.008264462809917356\n",
      "(0.075, 0.25)\n",
      "0.01652892561983471\n",
      "(0.075, 0.0)\n",
      "0.004132231404958678\n",
      "(0.11249999999999999, 1.0)\n",
      "0.11983471074380164\n",
      "(0.11249999999999999, 0.75)\n",
      "0.09504132231404959\n",
      "(0.11249999999999999, 0.5)\n",
      "0.0\n",
      "(0.11249999999999999, 0.25)\n",
      "0.0371900826446281\n",
      "(0.11249999999999999, 0.0)\n",
      "0.0\n",
      "(0.15, 1.0)\n",
      "0.16942148760330578\n",
      "(0.15, 0.75)\n",
      "0.004132231404958678\n",
      "(0.15, 0.5)\n",
      "-0.008264462809917356\n",
      "(0.15, 0.25)\n",
      "0.008264462809917356\n",
      "(0.15, 0.0)\n",
      "0.0\n"
     ]
    }
   ],
   "source": [
    "social_structure = 'LyonSchool'\n",
    "\n",
    "Bstar_arr = np.zeros((res,res))\n",
    "Astar_arr = np.zeros((res,res))\n",
    "\n",
    "\n",
    "for i,prop in enumerate(props[::]):\n",
    "    for j, beta in enumerate(betas[::-1]):\n",
    "        print((prop, beta))\n",
    "        fname = f'{social_structure}_{prop}_{beta}_{beta}_{q_non_committed}_{q_committed}_{run_length}_{ensemble_size}'\n",
    "\n",
    "        data = genfromtxt(f'outputs/{fname}.csv', delimiter=',')\n",
    "\n",
    "\n",
    "        A_data = data[0::3,:]\n",
    "        B_data = data[1::3,:]\n",
    "        AB_data = data[2::3,:]\n",
    "\n",
    "        N = A_data[0,0]+B_data[0,0]+AB_data[0,0]\n",
    "\n",
    "        B_data = B_data/N\n",
    "        A_data = A_data/N\n",
    "\n",
    "        Bstar_arr[j,i] = np.median(B_data[:, -1])\n",
    "        Astar_arr[j,i] = np.median(A_data[:, -1])\n",
    "        print(np.median(B_data[:, -1])-np.median(A_data[:, -1]))\n"
   ]
  },
  {
   "cell_type": "code",
   "execution_count": 8,
   "metadata": {},
   "outputs": [
    {
     "data": {
      "image/png": "[encoded data removed]",
      "text/plain": [
       "<Figure size 576x378 with 2 Axes>"
      ]
     },
     "metadata": {
      "needs_background": "light"
     },
     "output_type": "display_data"
    }
   ],
   "source": [
    "fname = f'heatmap_res{res}_{social_structure}_{q_non_committed}_{q_committed}_{run_length}_{ensemble_size}'\n",
    "\n",
    "# print(Bstar_arr)\n",
    "\n",
    "sb.heatmap((Bstar_arr-Astar_arr)[::-1,:], xticklabels=np.round_(props[::], decimals=3), yticklabels=np.round_(betas[::], decimals=3), cbar_kws={'label':r'$n_{B}^{\\ast}-n_{A}^{\\ast}$'}, cmap=\"RdBu\")\n",
    "plt.xlabel('p')\n",
    "plt.ylabel(r'$\\beta$')\n",
    "plt.savefig(f'figures/{fname}.pdf')"
   ]
  },
  {
   "cell_type": "code",
   "execution_count": null,
   "metadata": {},
   "outputs": [],
   "source": []
  }
 ],
 "metadata": {
  "kernelspec": {
   "display_name": "Python 3.7.12 ('complexityandnetworks')",
   "language": "python",
   "name": "python3"
  },
  "language_info": {
   "codemirror_mode": {
    "name": "ipython",
    "version": 3
   },
   "file_extension": ".py",
   "mimetype": "text/x-python",
   "name": "python",
   "nbconvert_exporter": "python",
   "pygments_lexer": "ipython3",
   "version": "3.7.12"
  },
  "orig_nbformat": 4,
  "vscode": {
   "interpreter": {
    "hash": "35d396ac993c851e0b0e992d34bce81f4de70a22ad3d03be42e3ab5021274cce"
   }
  }
 },
 "nbformat": 4,
 "nbformat_minor": 2
}
