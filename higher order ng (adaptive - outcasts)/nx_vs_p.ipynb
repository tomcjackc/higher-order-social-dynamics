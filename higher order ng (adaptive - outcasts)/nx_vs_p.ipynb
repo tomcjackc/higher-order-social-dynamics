{
 "cells": [
  {
   "cell_type": "code",
   "execution_count": 1,
   "metadata": {},
   "outputs": [
    {
     "name": "stdout",
     "output_type": "stream",
     "text": [
      "update19\n",
      "update19\n"
     ]
    }
   ],
   "source": [
    "from enum import unique\n",
    "import importlib\n",
    "import xgi\n",
    "import matplotlib.pyplot as plt\n",
    "import random\n",
    "import numpy as np\n",
    "import itertools\n",
    "from HONG import *\n",
    "import HONG\n",
    "importlib.reload(HONG)\n",
    "import csv\n",
    "from tqdm import tqdm\n",
    "import csv\n",
    "from numpy import genfromtxt\n",
    "import matplotlib as mpl\n",
    "import seaborn as sb\n",
    "\n",
    "mpl.style.use('report_style.mplstyle')"
   ]
  },
  {
   "cell_type": "code",
   "execution_count": 4,
   "metadata": {},
   "outputs": [],
   "source": [
    "res = 5\n",
    "props = np.linspace(0.01,0.15,res)\n",
    "betas = np.linspace(0.01,1,res)\n",
    "q_non_committed = 1\n",
    "q_committed = 1\n",
    "\n",
    "ensemble_size = 4\n",
    "run_length = 10**6\n",
    "social_structures = ['InVS15', 'LyonSchool', 'SFHH', 'Thiers13']"
   ]
  },
  {
   "cell_type": "code",
   "execution_count": 5,
   "metadata": {},
   "outputs": [
    {
     "name": "stdout",
     "output_type": "stream",
     "text": [
      "(0.01, 0.01)\n"
     ]
    },
    {
     "name": "stderr",
     "output_type": "stream",
     "text": [
      " 25%|██▌       | 1/4 [04:41<14:03, 281.04s/it]"
     ]
    },
    {
     "name": "stdout",
     "output_type": "stream",
     "text": [
      "size of largest connected component = 193\n",
      "sizes of connected components = [193, 1, 1, 1, 1, 2, 1, 1, 1, 1, 1, 1, 2, 1, 1, 1, 2, 2, 1, 1, 1, 1, 1, 1, 1, 1, 1, 1, 1, 1, 1, 1, 1, 1, 1, 1, 1, 1, 2, 1, 1, 1, 1, 1, 1]\n",
      "number of connected components = 45\n",
      "number of isolates = 39\n"
     ]
    },
    {
     "name": "stderr",
     "output_type": "stream",
     "text": [
      " 50%|█████     | 2/4 [09:09<09:07, 273.52s/it]"
     ]
    },
    {
     "name": "stdout",
     "output_type": "stream",
     "text": [
      "size of largest connected component = 184\n",
      "sizes of connected components = [184, 1, 1, 1, 2, 1, 1, 1, 2, 2, 1, 1, 1, 1, 1, 1, 1, 1, 1, 1, 1, 1, 1, 2, 1, 1, 1, 1, 1, 2, 1, 1, 1, 1, 1, 1, 2, 1, 1, 1, 1, 1, 1, 1, 1, 1, 1, 1, 1, 1, 1, 1, 1]\n",
      "number of connected components = 53\n",
      "number of isolates = 46\n"
     ]
    },
    {
     "name": "stderr",
     "output_type": "stream",
     "text": [
      " 75%|███████▌  | 3/4 [13:28<04:26, 266.98s/it]"
     ]
    },
    {
     "name": "stdout",
     "output_type": "stream",
     "text": [
      "size of largest connected component = 192\n",
      "sizes of connected components = [192, 1, 1, 2, 1, 1, 1, 2, 1, 1, 1, 2, 2, 2, 1, 2, 1, 2, 1, 1, 1, 1, 2, 2, 1, 1, 1, 1, 1, 1, 1, 1, 1, 1, 1, 1, 1, 1, 1, 1, 1, 1]\n",
      "number of connected components = 42\n",
      "number of isolates = 32\n"
     ]
    },
    {
     "name": "stderr",
     "output_type": "stream",
     "text": [
      "100%|██████████| 4/4 [17:45<00:00, 266.36s/it]\n"
     ]
    },
    {
     "name": "stdout",
     "output_type": "stream",
     "text": [
      "size of largest connected component = 185\n",
      "sizes of connected components = [185, 2, 1, 1, 2, 1, 2, 1, 2, 1, 1, 1, 1, 2, 1, 1, 1, 1, 1, 1, 1, 2, 2, 1, 1, 1, 1, 1, 1, 1, 1, 1, 1, 1, 1, 1, 1, 1, 1, 1, 1, 1, 1, 1, 1, 1, 1, 1, 1, 1, 1]\n",
      "number of connected components = 51\n",
      "number of isolates = 43\n",
      "(0.01, 0.2575)\n"
     ]
    },
    {
     "name": "stderr",
     "output_type": "stream",
     "text": [
      " 25%|██▌       | 1/4 [04:27<13:21, 267.18s/it]"
     ]
    },
    {
     "name": "stdout",
     "output_type": "stream",
     "text": [
      "size of largest connected component = 124\n",
      "sizes of connected components = [124, 1, 1, 1, 2, 1, 1, 1, 1, 1, 3, 1, 1, 1, 1, 1, 1, 2, 1, 2, 2, 1, 1, 1, 1, 2, 1, 1, 1, 1, 1, 1, 3, 2, 1, 1, 1, 3, 1, 1, 2, 1, 1, 1, 3, 1, 1, 1, 1, 1, 1, 1, 1, 2, 1, 2, 1, 1, 1, 1, 1, 1, 1, 1, 1, 2, 1, 1, 1, 1, 1, 1, 1, 2, 1, 1, 1, 1, 1, 1, 1, 1, 1, 1, 2, 1, 2, 1, 1, 1, 1, 1, 1, 1, 1, 1, 1, 1]\n",
      "number of connected components = 98\n",
      "number of isolates = 80\n"
     ]
    },
    {
     "name": "stderr",
     "output_type": "stream",
     "text": [
      " 50%|█████     | 2/4 [09:06<09:08, 274.09s/it]"
     ]
    },
    {
     "name": "stdout",
     "output_type": "stream",
     "text": [
      "size of largest connected component = 151\n",
      "sizes of connected components = [2, 1, 151, 1, 1, 2, 3, 1, 2, 1, 1, 1, 1, 1, 1, 1, 1, 1, 1, 2, 1, 1, 2, 1, 1, 1, 1, 1, 1, 1, 1, 1, 1, 1, 1, 1, 1, 3, 1, 3, 1, 1, 1, 5, 1, 1, 1, 2, 1, 1, 1, 1, 1, 1, 2, 1, 1, 1, 1, 1, 1, 1, 1, 1, 1, 1, 1, 1, 1, 1, 1, 1, 1, 1, 1]\n",
      "number of connected components = 75\n",
      "number of isolates = 63\n"
     ]
    },
    {
     "name": "stderr",
     "output_type": "stream",
     "text": [
      " 75%|███████▌  | 3/4 [13:28<04:28, 268.88s/it]"
     ]
    },
    {
     "name": "stdout",
     "output_type": "stream",
     "text": [
      "size of largest connected component = 92\n",
      "sizes of connected components = [1, 92, 1, 1, 1, 1, 1, 1, 1, 2, 1, 1, 1, 1, 2, 1, 1, 3, 1, 1, 1, 1, 1, 1, 1, 1, 2, 1, 2, 1, 2, 1, 2, 1, 1, 1, 1, 1, 1, 1, 1, 1, 1, 2, 1, 1, 1, 1, 1, 1, 1, 1, 1, 1, 1, 1, 1, 1, 1, 1, 1, 1, 1, 1, 3, 3, 1, 1, 1, 1, 1, 1, 1, 1, 1, 1, 1, 1, 1, 2, 1, 1, 1, 1, 1, 1, 2, 1, 1, 1, 1, 1, 1, 1, 1, 1, 1, 1, 1, 1, 2, 1, 1, 1, 1, 1, 1, 1, 1, 1, 1, 1, 1, 1, 1, 1, 1, 1, 1, 1, 2, 1, 1, 1, 1, 1, 1, 1, 1, 2, 1, 1, 1]\n",
      "number of connected components = 133\n",
      "number of isolates = 117\n"
     ]
    },
    {
     "name": "stderr",
     "output_type": "stream",
     "text": [
      "100%|██████████| 4/4 [17:31<00:00, 263.00s/it]\n"
     ]
    },
    {
     "name": "stdout",
     "output_type": "stream",
     "text": [
      "size of largest connected component = 117\n",
      "sizes of connected components = [117, 1, 2, 1, 1, 3, 1, 6, 1, 2, 1, 1, 1, 1, 1, 1, 3, 1, 1, 1, 2, 1, 1, 1, 1, 1, 1, 1, 1, 1, 1, 1, 1, 2, 1, 1, 2, 1, 2, 1, 1, 1, 1, 1, 1, 1, 1, 1, 1, 1, 1, 1, 1, 2, 1, 1, 1, 1, 1, 1, 2, 1, 2, 1, 1, 1, 3, 1, 2, 1, 1, 1, 1, 1, 1, 1, 1, 1, 1, 2, 1, 1, 1, 2, 2, 1, 1, 1, 1, 1, 1, 1, 1, 1, 1, 1, 1, 1, 1, 1, 1, 1]\n",
      "number of connected components = 102\n",
      "number of isolates = 84\n",
      "(0.01, 0.505)\n"
     ]
    },
    {
     "name": "stderr",
     "output_type": "stream",
     "text": [
      " 25%|██▌       | 1/4 [03:55<11:46, 235.59s/it]"
     ]
    },
    {
     "name": "stdout",
     "output_type": "stream",
     "text": [
      "size of largest connected component = 239\n",
      "sizes of connected components = [239, 1, 1, 1]\n",
      "number of connected components = 4\n",
      "number of isolates = 3\n"
     ]
    },
    {
     "name": "stderr",
     "output_type": "stream",
     "text": [
      " 50%|█████     | 2/4 [07:51<07:51, 235.89s/it]"
     ]
    },
    {
     "name": "stdout",
     "output_type": "stream",
     "text": [
      "size of largest connected component = 240\n",
      "sizes of connected components = [240, 1, 1]\n",
      "number of connected components = 3\n",
      "number of isolates = 2\n"
     ]
    },
    {
     "name": "stderr",
     "output_type": "stream",
     "text": [
      " 75%|███████▌  | 3/4 [11:47<03:55, 235.82s/it]"
     ]
    },
    {
     "name": "stdout",
     "output_type": "stream",
     "text": [
      "size of largest connected component = 240\n",
      "sizes of connected components = [240, 1, 1]\n",
      "number of connected components = 3\n",
      "number of isolates = 2\n"
     ]
    },
    {
     "name": "stderr",
     "output_type": "stream",
     "text": [
      "100%|██████████| 4/4 [15:42<00:00, 235.57s/it]\n"
     ]
    },
    {
     "name": "stdout",
     "output_type": "stream",
     "text": [
      "size of largest connected component = 240\n",
      "sizes of connected components = [240, 1, 1]\n",
      "number of connected components = 3\n",
      "number of isolates = 2\n",
      "(0.01, 0.7525)\n"
     ]
    },
    {
     "name": "stderr",
     "output_type": "stream",
     "text": [
      " 25%|██▌       | 1/4 [03:56<11:50, 236.84s/it]"
     ]
    },
    {
     "name": "stdout",
     "output_type": "stream",
     "text": [
      "size of largest connected component = 240\n",
      "sizes of connected components = [240, 1, 1]\n",
      "number of connected components = 3\n",
      "number of isolates = 2\n"
     ]
    },
    {
     "name": "stderr",
     "output_type": "stream",
     "text": [
      " 50%|█████     | 2/4 [07:53<07:52, 236.50s/it]"
     ]
    },
    {
     "name": "stdout",
     "output_type": "stream",
     "text": [
      "size of largest connected component = 240\n",
      "sizes of connected components = [240, 1, 1]\n",
      "number of connected components = 3\n",
      "number of isolates = 2\n"
     ]
    },
    {
     "name": "stderr",
     "output_type": "stream",
     "text": [
      " 75%|███████▌  | 3/4 [11:49<03:56, 236.47s/it]"
     ]
    },
    {
     "name": "stdout",
     "output_type": "stream",
     "text": [
      "size of largest connected component = 240\n",
      "sizes of connected components = [240, 1, 1]\n",
      "number of connected components = 3\n",
      "number of isolates = 2\n"
     ]
    },
    {
     "name": "stderr",
     "output_type": "stream",
     "text": [
      "100%|██████████| 4/4 [15:47<00:00, 236.90s/it]\n"
     ]
    },
    {
     "name": "stdout",
     "output_type": "stream",
     "text": [
      "size of largest connected component = 240\n",
      "sizes of connected components = [240, 1, 1]\n",
      "number of connected components = 3\n",
      "number of isolates = 2\n",
      "(0.01, 1.0)\n"
     ]
    },
    {
     "name": "stderr",
     "output_type": "stream",
     "text": [
      " 25%|██▌       | 1/4 [03:57<11:52, 237.51s/it]"
     ]
    },
    {
     "name": "stdout",
     "output_type": "stream",
     "text": [
      "size of largest connected component = 240\n",
      "sizes of connected components = [240, 1, 1]\n",
      "number of connected components = 3\n",
      "number of isolates = 2\n"
     ]
    },
    {
     "name": "stderr",
     "output_type": "stream",
     "text": [
      " 50%|█████     | 2/4 [07:57<07:58, 239.08s/it]"
     ]
    },
    {
     "name": "stdout",
     "output_type": "stream",
     "text": [
      "size of largest connected component = 240\n",
      "sizes of connected components = [240, 1, 1]\n",
      "number of connected components = 3\n",
      "number of isolates = 2\n"
     ]
    },
    {
     "name": "stderr",
     "output_type": "stream",
     "text": [
      " 75%|███████▌  | 3/4 [11:56<03:58, 238.76s/it]"
     ]
    },
    {
     "name": "stdout",
     "output_type": "stream",
     "text": [
      "size of largest connected component = 240\n",
      "sizes of connected components = [240, 1, 1]\n",
      "number of connected components = 3\n",
      "number of isolates = 2\n"
     ]
    },
    {
     "name": "stderr",
     "output_type": "stream",
     "text": [
      "100%|██████████| 4/4 [15:54<00:00, 238.54s/it]\n"
     ]
    },
    {
     "name": "stdout",
     "output_type": "stream",
     "text": [
      "size of largest connected component = 240\n",
      "sizes of connected components = [240, 1, 1]\n",
      "number of connected components = 3\n",
      "number of isolates = 2\n",
      "(0.045, 0.01)\n"
     ]
    },
    {
     "name": "stderr",
     "output_type": "stream",
     "text": [
      " 25%|██▌       | 1/4 [04:00<12:02, 240.74s/it]"
     ]
    },
    {
     "name": "stdout",
     "output_type": "stream",
     "text": [
      "size of largest connected component = 174\n",
      "sizes of connected components = [174, 1, 2, 2, 1, 2, 1, 2, 1, 1, 1, 1, 1, 1, 1, 1, 1, 2, 1, 1, 1, 1, 2, 2, 1, 1, 1, 1, 1, 1, 1, 1, 2, 2, 1, 1, 1, 1, 1, 1, 1, 1, 1, 1, 1, 1, 1, 1, 1, 10, 1]\n",
      "number of connected components = 51\n",
      "number of isolates = 40\n"
     ]
    },
    {
     "name": "stderr",
     "output_type": "stream",
     "text": [
      " 50%|█████     | 2/4 [08:03<08:03, 241.86s/it]"
     ]
    },
    {
     "name": "stdout",
     "output_type": "stream",
     "text": [
      "size of largest connected component = 180\n",
      "sizes of connected components = [180, 1, 1, 2, 1, 1, 1, 1, 1, 2, 1, 1, 1, 1, 1, 1, 1, 2, 1, 1, 1, 1, 1, 2, 1, 1, 1, 1, 1, 1, 1, 1, 1, 1, 1, 1, 1, 1, 1, 1, 1, 1, 1, 1, 1, 1, 1, 1, 1, 1, 9]\n",
      "number of connected components = 51\n",
      "number of isolates = 45\n"
     ]
    },
    {
     "name": "stderr",
     "output_type": "stream",
     "text": [
      " 75%|███████▌  | 3/4 [12:08<04:03, 243.15s/it]"
     ]
    },
    {
     "name": "stdout",
     "output_type": "stream",
     "text": [
      "size of largest connected component = 168\n",
      "sizes of connected components = [168, 2, 1, 2, 1, 2, 2, 1, 1, 1, 1, 1, 2, 1, 2, 1, 1, 1, 1, 1, 1, 2, 1, 1, 1, 1, 1, 1, 1, 1, 1, 1, 1, 1, 1, 1, 1, 2, 1, 1, 1, 1, 1, 1, 1, 1, 1, 1, 1, 1, 1, 1, 1, 1, 1, 1, 1, 10]\n",
      "number of connected components = 58\n",
      "number of isolates = 48\n"
     ]
    },
    {
     "name": "stderr",
     "output_type": "stream",
     "text": [
      "100%|██████████| 4/4 [16:08<00:00, 242.24s/it]\n"
     ]
    },
    {
     "name": "stdout",
     "output_type": "stream",
     "text": [
      "size of largest connected component = 168\n",
      "sizes of connected components = [168, 1, 1, 1, 2, 2, 2, 1, 2, 2, 2, 1, 1, 1, 2, 1, 2, 1, 1, 1, 2, 2, 1, 1, 1, 1, 2, 1, 2, 1, 2, 1, 1, 1, 1, 1, 1, 2, 2, 2, 1, 1, 1, 1, 1, 1, 1, 1, 1, 1, 9]\n",
      "number of connected components = 51\n",
      "number of isolates = 33\n",
      "(0.045, 0.2575)\n"
     ]
    },
    {
     "name": "stderr",
     "output_type": "stream",
     "text": [
      " 25%|██▌       | 1/4 [04:01<12:03, 241.30s/it]"
     ]
    },
    {
     "name": "stdout",
     "output_type": "stream",
     "text": [
      "size of largest connected component = 186\n",
      "sizes of connected components = [186, 1, 2, 2, 1, 1, 2, 1, 1, 7, 1, 1, 2, 1, 2, 5, 1, 2, 1, 2, 1, 2, 1, 1, 1, 1, 1, 1, 1, 1, 1, 1, 1, 1, 1, 1, 1, 1, 1]\n",
      "number of connected components = 39\n",
      "number of isolates = 28\n"
     ]
    },
    {
     "name": "stderr",
     "output_type": "stream",
     "text": [
      " 50%|█████     | 2/4 [08:01<08:00, 240.38s/it]"
     ]
    },
    {
     "name": "stdout",
     "output_type": "stream",
     "text": [
      "size of largest connected component = 174\n",
      "sizes of connected components = [174, 1, 1, 1, 1, 1, 1, 2, 3, 2, 1, 1, 1, 1, 2, 2, 1, 2, 1, 1, 1, 1, 1, 1, 1, 1, 1, 1, 1, 1, 1, 1, 1, 1, 1, 1, 1, 1, 1, 1, 1, 1, 1, 1, 1, 1, 1, 1, 1, 1, 1, 1, 1, 1, 1, 1, 1, 1, 1, 1, 1, 1]\n",
      "number of connected components = 62\n",
      "number of isolates = 55\n"
     ]
    },
    {
     "name": "stderr",
     "output_type": "stream",
     "text": [
      " 75%|███████▌  | 3/4 [12:00<03:59, 239.77s/it]"
     ]
    },
    {
     "name": "stdout",
     "output_type": "stream",
     "text": [
      "size of largest connected component = 183\n",
      "sizes of connected components = [183, 2, 3, 1, 2, 1, 1, 1, 1, 1, 1, 2, 1, 1, 2, 1, 1, 2, 1, 1, 1, 1, 2, 1, 1, 1, 2, 1, 1, 1, 1, 1, 1, 1, 1, 1, 1, 1, 1, 1, 1, 1, 1, 1, 1, 1, 1, 1, 1, 1, 1]\n",
      "number of connected components = 51\n",
      "number of isolates = 42\n"
     ]
    },
    {
     "name": "stderr",
     "output_type": "stream",
     "text": [
      "100%|██████████| 4/4 [16:00<00:00, 240.13s/it]\n"
     ]
    },
    {
     "name": "stdout",
     "output_type": "stream",
     "text": [
      "size of largest connected component = 190\n",
      "sizes of connected components = [190, 3, 1, 1, 1, 6, 1, 1, 1, 1, 2, 1, 1, 2, 2, 1, 2, 2, 1, 1, 2, 1, 2, 1, 2, 1, 1, 1, 1, 1, 1, 1, 1, 1, 1, 1, 1, 1]\n",
      "number of connected components = 38\n",
      "number of isolates = 27\n",
      "(0.045, 0.505)\n"
     ]
    },
    {
     "name": "stderr",
     "output_type": "stream",
     "text": [
      " 25%|██▌       | 1/4 [03:56<11:48, 236.04s/it]"
     ]
    },
    {
     "name": "stdout",
     "output_type": "stream",
     "text": [
      "size of largest connected component = 205\n",
      "sizes of connected components = [205, 2, 21, 3, 1, 3, 1, 1, 1, 1, 1, 1, 1]\n",
      "number of connected components = 13\n",
      "number of isolates = 8\n"
     ]
    },
    {
     "name": "stderr",
     "output_type": "stream",
     "text": [
      " 50%|█████     | 2/4 [07:51<07:50, 235.47s/it]"
     ]
    },
    {
     "name": "stdout",
     "output_type": "stream",
     "text": [
      "size of largest connected component = 231\n",
      "sizes of connected components = [231, 1, 1, 1, 1, 1, 1, 1, 1, 1, 1, 1]\n",
      "number of connected components = 12\n",
      "number of isolates = 11\n"
     ]
    },
    {
     "name": "stderr",
     "output_type": "stream",
     "text": [
      " 75%|███████▌  | 3/4 [11:47<03:55, 235.92s/it]"
     ]
    },
    {
     "name": "stdout",
     "output_type": "stream",
     "text": [
      "size of largest connected component = 230\n",
      "sizes of connected components = [230, 1, 1, 2, 2, 1, 1, 2, 1, 1]\n",
      "number of connected components = 10\n",
      "number of isolates = 6\n"
     ]
    },
    {
     "name": "stderr",
     "output_type": "stream",
     "text": [
      "100%|██████████| 4/4 [15:42<00:00, 235.72s/it]\n"
     ]
    },
    {
     "name": "stdout",
     "output_type": "stream",
     "text": [
      "size of largest connected component = 229\n",
      "sizes of connected components = [229, 6, 1, 4, 1, 1]\n",
      "number of connected components = 6\n",
      "number of isolates = 3\n",
      "(0.045, 0.7525)\n"
     ]
    },
    {
     "name": "stderr",
     "output_type": "stream",
     "text": [
      " 25%|██▌       | 1/4 [03:57<11:52, 237.61s/it]"
     ]
    },
    {
     "name": "stdout",
     "output_type": "stream",
     "text": [
      "size of largest connected component = 230\n",
      "sizes of connected components = [230, 4, 2, 1, 1, 1, 1, 1, 1]\n",
      "number of connected components = 9\n",
      "number of isolates = 6\n"
     ]
    },
    {
     "name": "stderr",
     "output_type": "stream",
     "text": [
      " 50%|█████     | 2/4 [07:59<07:59, 239.95s/it]"
     ]
    },
    {
     "name": "stdout",
     "output_type": "stream",
     "text": [
      "size of largest connected component = 230\n",
      "sizes of connected components = [230, 3, 1, 1, 1, 1, 1, 1, 1, 1, 1]\n",
      "number of connected components = 11\n",
      "number of isolates = 9\n"
     ]
    },
    {
     "name": "stderr",
     "output_type": "stream",
     "text": [
      " 75%|███████▌  | 3/4 [12:03<04:01, 241.91s/it]"
     ]
    },
    {
     "name": "stdout",
     "output_type": "stream",
     "text": [
      "size of largest connected component = 230\n",
      "sizes of connected components = [230, 2, 1, 1, 1, 1, 1, 1, 1, 3]\n",
      "number of connected components = 10\n",
      "number of isolates = 7\n"
     ]
    },
    {
     "name": "stderr",
     "output_type": "stream",
     "text": [
      "100%|██████████| 4/4 [16:01<00:00, 240.34s/it]\n"
     ]
    },
    {
     "name": "stdout",
     "output_type": "stream",
     "text": [
      "size of largest connected component = 231\n",
      "sizes of connected components = [231, 1, 1, 1, 1, 1, 1, 1, 1, 1, 1, 1]\n",
      "number of connected components = 12\n",
      "number of isolates = 11\n",
      "(0.045, 1.0)\n"
     ]
    },
    {
     "name": "stderr",
     "output_type": "stream",
     "text": [
      " 25%|██▌       | 1/4 [03:58<11:54, 238.05s/it]"
     ]
    },
    {
     "name": "stdout",
     "output_type": "stream",
     "text": [
      "size of largest connected component = 231\n",
      "sizes of connected components = [231, 1, 1, 1, 2, 1, 2, 1, 1, 1]\n",
      "number of connected components = 10\n",
      "number of isolates = 7\n"
     ]
    },
    {
     "name": "stderr",
     "output_type": "stream",
     "text": [
      " 50%|█████     | 2/4 [07:57<07:57, 238.85s/it]"
     ]
    },
    {
     "name": "stdout",
     "output_type": "stream",
     "text": [
      "size of largest connected component = 231\n",
      "sizes of connected components = [231, 1, 1, 1, 2, 1, 1, 1, 1, 1, 1]\n",
      "number of connected components = 11\n",
      "number of isolates = 9\n"
     ]
    },
    {
     "name": "stderr",
     "output_type": "stream",
     "text": [
      " 75%|███████▌  | 3/4 [11:55<03:58, 238.30s/it]"
     ]
    },
    {
     "name": "stdout",
     "output_type": "stream",
     "text": [
      "size of largest connected component = 231\n",
      "sizes of connected components = [231, 1, 1, 1, 1, 3, 1, 1, 1, 1]\n",
      "number of connected components = 10\n",
      "number of isolates = 8\n"
     ]
    },
    {
     "name": "stderr",
     "output_type": "stream",
     "text": [
      "100%|██████████| 4/4 [15:54<00:00, 238.57s/it]\n"
     ]
    },
    {
     "name": "stdout",
     "output_type": "stream",
     "text": [
      "size of largest connected component = 231\n",
      "sizes of connected components = [231, 1, 4, 1, 1, 1, 1, 1, 1]\n",
      "number of connected components = 9\n",
      "number of isolates = 7\n",
      "(0.07999999999999999, 0.01)\n"
     ]
    },
    {
     "name": "stderr",
     "output_type": "stream",
     "text": [
      " 25%|██▌       | 1/4 [04:02<12:06, 242.21s/it]"
     ]
    },
    {
     "name": "stdout",
     "output_type": "stream",
     "text": [
      "size of largest connected component = 166\n",
      "sizes of connected components = [166, 1, 1, 1, 1, 1, 2, 1, 1, 2, 1, 1, 1, 1, 1, 2, 1, 2, 1, 1, 1, 1, 1, 1, 1, 1, 1, 1, 1, 1, 2, 1, 1, 1, 1, 2, 1, 1, 2, 1, 1, 1, 1, 1, 1, 1, 1, 1, 1, 2, 1, 1, 17]\n",
      "number of connected components = 53\n",
      "number of isolates = 43\n"
     ]
    },
    {
     "name": "stderr",
     "output_type": "stream",
     "text": [
      " 50%|█████     | 2/4 [08:04<08:04, 242.32s/it]"
     ]
    },
    {
     "name": "stdout",
     "output_type": "stream",
     "text": [
      "size of largest connected component = 170\n",
      "sizes of connected components = [170, 1, 1, 2, 1, 1, 1, 2, 1, 1, 1, 1, 2, 2, 1, 1, 1, 1, 1, 1, 1, 1, 1, 1, 1, 1, 1, 1, 1, 1, 1, 1, 1, 2, 1, 1, 1, 1, 1, 1, 1, 1, 1, 1, 1, 1, 1, 1, 1, 19]\n",
      "number of connected components = 50\n",
      "number of isolates = 43\n"
     ]
    },
    {
     "name": "stderr",
     "output_type": "stream",
     "text": [
      " 75%|███████▌  | 3/4 [12:06<04:02, 242.31s/it]"
     ]
    },
    {
     "name": "stdout",
     "output_type": "stream",
     "text": [
      "size of largest connected component = 167\n",
      "sizes of connected components = [167, 1, 1, 1, 1, 2, 1, 1, 1, 4, 1, 1, 1, 2, 2, 2, 1, 2, 1, 2, 1, 1, 1, 1, 2, 1, 2, 1, 1, 1, 1, 1, 2, 1, 1, 1, 1, 1, 1, 1, 1, 1, 1, 2, 1, 1, 14, 3]\n",
      "number of connected components = 48\n",
      "number of isolates = 34\n"
     ]
    },
    {
     "name": "stderr",
     "output_type": "stream",
     "text": [
      "100%|██████████| 4/4 [16:09<00:00, 242.36s/it]\n"
     ]
    },
    {
     "name": "stdout",
     "output_type": "stream",
     "text": [
      "size of largest connected component = 183\n",
      "sizes of connected components = [183, 2, 1, 1, 1, 1, 1, 1, 1, 1, 1, 2, 2, 1, 2, 1, 1, 1, 1, 1, 1, 1, 1, 1, 1, 1, 2, 1, 1, 1, 1, 1, 1, 1, 1, 1, 19]\n",
      "number of connected components = 37\n",
      "number of isolates = 30\n",
      "(0.07999999999999999, 0.2575)\n"
     ]
    },
    {
     "name": "stderr",
     "output_type": "stream",
     "text": [
      " 25%|██▌       | 1/4 [04:00<12:01, 240.35s/it]"
     ]
    },
    {
     "name": "stdout",
     "output_type": "stream",
     "text": [
      "size of largest connected component = 207\n",
      "sizes of connected components = [207, 4, 1, 1, 3, 1, 1, 1, 1, 1, 1, 2, 1, 1, 1, 1, 2, 1, 1, 1, 1, 1, 1, 1, 1, 1, 1, 1, 1]\n",
      "number of connected components = 29\n",
      "number of isolates = 24\n"
     ]
    },
    {
     "name": "stderr",
     "output_type": "stream",
     "text": [
      " 50%|█████     | 2/4 [08:01<08:01, 240.66s/it]"
     ]
    },
    {
     "name": "stdout",
     "output_type": "stream",
     "text": [
      "size of largest connected component = 200\n",
      "sizes of connected components = [200, 2, 2, 2, 7, 1, 1, 1, 3, 1, 2, 2, 1, 1, 1, 1, 1, 2, 1, 1, 1, 2, 1, 1, 1, 1, 1, 1]\n",
      "number of connected components = 28\n",
      "number of isolates = 18\n"
     ]
    },
    {
     "name": "stderr",
     "output_type": "stream",
     "text": [
      " 75%|███████▌  | 3/4 [11:59<03:59, 239.46s/it]"
     ]
    },
    {
     "name": "stdout",
     "output_type": "stream",
     "text": [
      "size of largest connected component = 212\n",
      "sizes of connected components = [212, 2, 1, 3, 1, 2, 3, 1, 1, 1, 1, 1, 2, 2, 1, 2, 1, 1, 1, 1, 1, 1]\n",
      "number of connected components = 22\n",
      "number of isolates = 14\n"
     ]
    },
    {
     "name": "stderr",
     "output_type": "stream",
     "text": [
      "100%|██████████| 4/4 [16:00<00:00, 240.08s/it]\n"
     ]
    },
    {
     "name": "stdout",
     "output_type": "stream",
     "text": [
      "size of largest connected component = 192\n",
      "sizes of connected components = [2, 192, 3, 1, 1, 1, 1, 3, 2, 1, 1, 2, 4, 5, 1, 1, 2, 1, 1, 1, 1, 1, 1, 1, 1, 1, 1, 1, 2, 1, 1, 1, 1, 1, 1]\n",
      "number of connected components = 35\n",
      "number of isolates = 25\n",
      "(0.07999999999999999, 0.505)\n"
     ]
    },
    {
     "name": "stderr",
     "output_type": "stream",
     "text": [
      " 25%|██▌       | 1/4 [03:57<11:51, 237.24s/it]"
     ]
    },
    {
     "name": "stdout",
     "output_type": "stream",
     "text": [
      "size of largest connected component = 220\n",
      "sizes of connected components = [220, 1, 11, 4, 3, 1, 1, 1]\n",
      "number of connected components = 8\n",
      "number of isolates = 4\n"
     ]
    },
    {
     "name": "stderr",
     "output_type": "stream",
     "text": [
      " 50%|█████     | 2/4 [07:53<07:53, 236.87s/it]"
     ]
    },
    {
     "name": "stdout",
     "output_type": "stream",
     "text": [
      "size of largest connected component = 215\n",
      "sizes of connected components = [215, 6, 1, 2, 1, 9, 2, 3, 1, 1, 1]\n",
      "number of connected components = 11\n",
      "number of isolates = 5\n"
     ]
    },
    {
     "name": "stderr",
     "output_type": "stream",
     "text": [
      " 75%|███████▌  | 3/4 [11:50<03:56, 236.91s/it]"
     ]
    },
    {
     "name": "stdout",
     "output_type": "stream",
     "text": [
      "size of largest connected component = 217\n",
      "sizes of connected components = [217, 12, 3, 2, 2, 1, 2, 1, 1, 1]\n",
      "number of connected components = 10\n",
      "number of isolates = 4\n"
     ]
    },
    {
     "name": "stderr",
     "output_type": "stream",
     "text": [
      "100%|██████████| 4/4 [15:46<00:00, 236.73s/it]\n"
     ]
    },
    {
     "name": "stdout",
     "output_type": "stream",
     "text": [
      "size of largest connected component = 220\n",
      "sizes of connected components = [220, 1, 7, 2, 1, 1, 1, 1, 1, 1, 2, 1, 1, 1, 1]\n",
      "number of connected components = 15\n",
      "number of isolates = 11\n",
      "(0.07999999999999999, 0.7525)\n"
     ]
    },
    {
     "name": "stderr",
     "output_type": "stream",
     "text": [
      " 25%|██▌       | 1/4 [03:57<11:53, 237.68s/it]"
     ]
    },
    {
     "name": "stdout",
     "output_type": "stream",
     "text": [
      "size of largest connected component = 219\n",
      "sizes of connected components = [219, 9, 1, 1, 1, 1, 1, 6, 1, 1, 1]\n",
      "number of connected components = 11\n",
      "number of isolates = 8\n"
     ]
    },
    {
     "name": "stderr",
     "output_type": "stream",
     "text": [
      " 50%|█████     | 2/4 [07:55<07:55, 237.86s/it]"
     ]
    },
    {
     "name": "stdout",
     "output_type": "stream",
     "text": [
      "size of largest connected component = 223\n",
      "sizes of connected components = [223, 1, 3, 1, 1, 3, 2, 1, 2, 1, 1, 1, 1, 1]\n",
      "number of connected components = 14\n",
      "number of isolates = 9\n"
     ]
    },
    {
     "name": "stderr",
     "output_type": "stream",
     "text": [
      " 75%|███████▌  | 3/4 [11:52<03:57, 237.36s/it]"
     ]
    },
    {
     "name": "stdout",
     "output_type": "stream",
     "text": [
      "size of largest connected component = 222\n",
      "sizes of connected components = [222, 2, 1, 1, 2, 1, 3, 4, 1, 1, 1, 1, 1, 1]\n",
      "number of connected components = 14\n",
      "number of isolates = 9\n"
     ]
    },
    {
     "name": "stderr",
     "output_type": "stream",
     "text": [
      "100%|██████████| 4/4 [15:51<00:00, 237.81s/it]\n"
     ]
    },
    {
     "name": "stdout",
     "output_type": "stream",
     "text": [
      "size of largest connected component = 222\n",
      "sizes of connected components = [222, 1, 3, 4, 3, 1, 1, 1, 1, 1, 1, 1, 1, 1]\n",
      "number of connected components = 14\n",
      "number of isolates = 10\n",
      "(0.07999999999999999, 1.0)\n"
     ]
    },
    {
     "name": "stderr",
     "output_type": "stream",
     "text": [
      " 25%|██▌       | 1/4 [03:58<11:55, 238.60s/it]"
     ]
    },
    {
     "name": "stdout",
     "output_type": "stream",
     "text": [
      "size of largest connected component = 222\n",
      "sizes of connected components = [222, 1, 3, 2, 7, 1, 1, 1, 2, 2]\n",
      "number of connected components = 10\n",
      "number of isolates = 4\n"
     ]
    },
    {
     "name": "stderr",
     "output_type": "stream",
     "text": [
      " 50%|█████     | 2/4 [07:56<07:56, 238.41s/it]"
     ]
    },
    {
     "name": "stdout",
     "output_type": "stream",
     "text": [
      "size of largest connected component = 223\n",
      "sizes of connected components = [223, 1, 1, 1, 1, 2, 2, 2, 2, 1, 1, 1, 1, 1, 1, 1]\n",
      "number of connected components = 16\n",
      "number of isolates = 11\n"
     ]
    },
    {
     "name": "stderr",
     "output_type": "stream",
     "text": [
      " 75%|███████▌  | 3/4 [11:56<03:58, 238.77s/it]"
     ]
    },
    {
     "name": "stdout",
     "output_type": "stream",
     "text": [
      "size of largest connected component = 223\n",
      "sizes of connected components = [223, 8, 1, 1, 3, 1, 2, 2, 1]\n",
      "number of connected components = 9\n",
      "number of isolates = 4\n"
     ]
    },
    {
     "name": "stderr",
     "output_type": "stream",
     "text": [
      "100%|██████████| 4/4 [15:54<00:00, 238.59s/it]\n"
     ]
    },
    {
     "name": "stdout",
     "output_type": "stream",
     "text": [
      "size of largest connected component = 223\n",
      "sizes of connected components = [223, 5, 1, 1, 1, 1, 2, 1, 1, 1, 1, 1, 1, 1, 1]\n",
      "number of connected components = 15\n",
      "number of isolates = 12\n",
      "(0.11499999999999998, 0.01)\n"
     ]
    },
    {
     "name": "stderr",
     "output_type": "stream",
     "text": [
      " 25%|██▌       | 1/4 [04:00<12:00, 240.11s/it]"
     ]
    },
    {
     "name": "stdout",
     "output_type": "stream",
     "text": [
      "size of largest connected component = 161\n",
      "sizes of connected components = [161, 2, 1, 1, 3, 1, 2, 2, 3, 2, 2, 1, 1, 1, 1, 1, 1, 1, 1, 1, 1, 1, 1, 1, 1, 1, 1, 1, 1, 2, 1, 1, 1, 1, 1, 1, 1, 1, 1, 1, 1, 1, 1, 1, 1, 1, 26]\n",
      "number of connected components = 47\n",
      "number of isolates = 37\n"
     ]
    },
    {
     "name": "stderr",
     "output_type": "stream",
     "text": [
      " 50%|█████     | 2/4 [08:01<08:01, 240.68s/it]"
     ]
    },
    {
     "name": "stdout",
     "output_type": "stream",
     "text": [
      "size of largest connected component = 156\n",
      "sizes of connected components = [156, 1, 1, 2, 1, 3, 1, 2, 2, 1, 1, 1, 2, 1, 1, 1, 1, 1, 1, 1, 1, 2, 1, 1, 1, 1, 1, 2, 1, 1, 2, 1, 1, 1, 1, 1, 1, 1, 1, 1, 1, 1, 1, 1, 2, 1, 1, 1, 1, 1, 1, 23, 3]\n",
      "number of connected components = 53\n",
      "number of isolates = 41\n"
     ]
    },
    {
     "name": "stderr",
     "output_type": "stream",
     "text": [
      " 75%|███████▌  | 3/4 [12:02<04:00, 240.95s/it]"
     ]
    },
    {
     "name": "stdout",
     "output_type": "stream",
     "text": [
      "size of largest connected component = 155\n",
      "sizes of connected components = [155, 2, 1, 1, 1, 1, 1, 2, 1, 1, 2, 2, 2, 3, 1, 1, 2, 1, 2, 2, 1, 1, 1, 1, 1, 1, 1, 1, 1, 1, 1, 2, 4, 2, 1, 1, 1, 2, 1, 1, 1, 1, 1, 1, 1, 1, 1, 1, 24]\n",
      "number of connected components = 49\n",
      "number of isolates = 34\n"
     ]
    },
    {
     "name": "stderr",
     "output_type": "stream",
     "text": [
      "100%|██████████| 4/4 [16:04<00:00, 241.24s/it]\n"
     ]
    },
    {
     "name": "stdout",
     "output_type": "stream",
     "text": [
      "size of largest connected component = 157\n",
      "sizes of connected components = [1, 157, 2, 2, 1, 2, 1, 1, 1, 1, 2, 1, 1, 2, 1, 1, 1, 2, 2, 1, 2, 1, 1, 1, 1, 1, 1, 1, 1, 1, 1, 1, 1, 2, 1, 1, 1, 1, 1, 1, 1, 1, 1, 1, 1, 1, 1, 1, 1, 28]\n",
      "number of connected components = 50\n",
      "number of isolates = 39\n",
      "(0.11499999999999998, 0.2575)\n"
     ]
    },
    {
     "name": "stderr",
     "output_type": "stream",
     "text": [
      " 25%|██▌       | 1/4 [03:59<11:57, 239.06s/it]"
     ]
    },
    {
     "name": "stdout",
     "output_type": "stream",
     "text": [
      "size of largest connected component = 199\n",
      "sizes of connected components = [199, 2, 1, 1, 1, 4, 2, 1, 1, 1, 2, 1, 1, 1, 1, 1, 1, 1, 1, 1, 1, 3, 1, 1, 1, 1, 1, 1, 1, 1, 1, 1, 1, 1, 1, 1]\n",
      "number of connected components = 36\n",
      "number of isolates = 30\n"
     ]
    },
    {
     "name": "stderr",
     "output_type": "stream",
     "text": [
      " 50%|█████     | 2/4 [07:59<07:59, 239.80s/it]"
     ]
    },
    {
     "name": "stdout",
     "output_type": "stream",
     "text": [
      "size of largest connected component = 217\n",
      "sizes of connected components = [217, 1, 1, 4, 4, 1, 2, 1, 2, 1, 1, 1, 1, 1, 1, 1, 1, 1]\n",
      "number of connected components = 18\n",
      "number of isolates = 13\n"
     ]
    },
    {
     "name": "stderr",
     "output_type": "stream",
     "text": [
      " 75%|███████▌  | 3/4 [11:58<03:59, 239.65s/it]"
     ]
    },
    {
     "name": "stdout",
     "output_type": "stream",
     "text": [
      "size of largest connected component = 209\n",
      "sizes of connected components = [209, 2, 3, 1, 2, 1, 1, 1, 1, 2, 2, 1, 1, 1, 1, 1, 1, 1, 1, 1, 2, 1, 1, 1, 1, 1, 1]\n",
      "number of connected components = 27\n",
      "number of isolates = 20\n"
     ]
    },
    {
     "name": "stderr",
     "output_type": "stream",
     "text": [
      "100%|██████████| 4/4 [15:58<00:00, 239.74s/it]\n"
     ]
    },
    {
     "name": "stdout",
     "output_type": "stream",
     "text": [
      "size of largest connected component = 213\n",
      "sizes of connected components = [213, 2, 2, 1, 1, 1, 2, 1, 2, 2, 1, 1, 1, 2, 1, 1, 2, 1, 1, 1, 1, 1, 1]\n",
      "number of connected components = 23\n",
      "number of isolates = 15\n",
      "(0.11499999999999998, 0.505)\n"
     ]
    },
    {
     "name": "stderr",
     "output_type": "stream",
     "text": [
      " 25%|██▌       | 1/4 [04:00<12:02, 240.98s/it]"
     ]
    },
    {
     "name": "stdout",
     "output_type": "stream",
     "text": [
      "size of largest connected component = 239\n",
      "sizes of connected components = [239, 2, 1]\n",
      "number of connected components = 3\n",
      "number of isolates = 1\n"
     ]
    },
    {
     "name": "stderr",
     "output_type": "stream",
     "text": [
      " 50%|█████     | 2/4 [08:02<08:03, 241.57s/it]"
     ]
    },
    {
     "name": "stdout",
     "output_type": "stream",
     "text": [
      "size of largest connected component = 236\n",
      "sizes of connected components = [236, 1, 1, 1, 1, 1, 1]\n",
      "number of connected components = 7\n",
      "number of isolates = 6\n"
     ]
    },
    {
     "name": "stderr",
     "output_type": "stream",
     "text": [
      " 75%|███████▌  | 3/4 [12:04<04:01, 241.71s/it]"
     ]
    },
    {
     "name": "stdout",
     "output_type": "stream",
     "text": [
      "size of largest connected component = 238\n",
      "sizes of connected components = [238, 1, 3]\n",
      "number of connected components = 3\n",
      "number of isolates = 1\n"
     ]
    },
    {
     "name": "stderr",
     "output_type": "stream",
     "text": [
      "100%|██████████| 4/4 [16:07<00:00, 241.90s/it]\n"
     ]
    },
    {
     "name": "stdout",
     "output_type": "stream",
     "text": [
      "size of largest connected component = 231\n",
      "sizes of connected components = [231, 4, 2, 1, 3, 1]\n",
      "number of connected components = 6\n",
      "number of isolates = 2\n",
      "(0.11499999999999998, 0.7525)\n"
     ]
    },
    {
     "name": "stderr",
     "output_type": "stream",
     "text": [
      " 25%|██▌       | 1/4 [03:57<11:53, 237.95s/it]"
     ]
    },
    {
     "name": "stdout",
     "output_type": "stream",
     "text": [
      "size of largest connected component = 211\n",
      "sizes of connected components = [211, 3, 17, 1, 1, 1, 1, 1, 1, 1, 1, 1, 1, 1]\n",
      "number of connected components = 14\n",
      "number of isolates = 11\n"
     ]
    },
    {
     "name": "stderr",
     "output_type": "stream",
     "text": [
      " 50%|█████     | 2/4 [07:55<07:55, 237.94s/it]"
     ]
    },
    {
     "name": "stdout",
     "output_type": "stream",
     "text": [
      "size of largest connected component = 174\n",
      "sizes of connected components = [174, 62, 1, 1, 1, 1, 1, 1]\n",
      "number of connected components = 8\n",
      "number of isolates = 6\n"
     ]
    },
    {
     "name": "stderr",
     "output_type": "stream",
     "text": [
      " 75%|███████▌  | 3/4 [11:53<03:57, 237.72s/it]"
     ]
    },
    {
     "name": "stdout",
     "output_type": "stream",
     "text": [
      "size of largest connected component = 208\n",
      "sizes of connected components = [208, 1, 26, 1, 1, 1, 1, 1, 1, 1]\n",
      "number of connected components = 10\n",
      "number of isolates = 8\n"
     ]
    },
    {
     "name": "stderr",
     "output_type": "stream",
     "text": [
      "100%|██████████| 4/4 [15:54<00:00, 238.61s/it]\n"
     ]
    },
    {
     "name": "stdout",
     "output_type": "stream",
     "text": [
      "size of largest connected component = 124\n",
      "sizes of connected components = [124, 105, 1, 1, 3, 1, 1, 1, 1, 1, 1, 1, 1]\n",
      "number of connected components = 13\n",
      "number of isolates = 10\n",
      "(0.11499999999999998, 1.0)\n"
     ]
    },
    {
     "name": "stderr",
     "output_type": "stream",
     "text": [
      " 25%|██▌       | 1/4 [03:58<11:56, 238.96s/it]"
     ]
    },
    {
     "name": "stdout",
     "output_type": "stream",
     "text": [
      "size of largest connected component = 208\n",
      "sizes of connected components = [208, 1, 26, 1, 2, 1, 1, 1, 1]\n",
      "number of connected components = 9\n",
      "number of isolates = 6\n"
     ]
    },
    {
     "name": "stderr",
     "output_type": "stream",
     "text": [
      " 50%|█████     | 2/4 [07:56<07:56, 238.11s/it]"
     ]
    },
    {
     "name": "stdout",
     "output_type": "stream",
     "text": [
      "size of largest connected component = 212\n",
      "sizes of connected components = [212, 2, 2, 6, 5, 1, 2, 5, 1, 1, 1, 1, 1, 1, 1]\n",
      "number of connected components = 15\n",
      "number of isolates = 8\n"
     ]
    },
    {
     "name": "stderr",
     "output_type": "stream",
     "text": [
      " 75%|███████▌  | 3/4 [11:56<03:59, 239.07s/it]"
     ]
    },
    {
     "name": "stdout",
     "output_type": "stream",
     "text": [
      "size of largest connected component = 192\n",
      "sizes of connected components = [192, 49, 1]\n",
      "number of connected components = 3\n",
      "number of isolates = 1\n"
     ]
    },
    {
     "name": "stderr",
     "output_type": "stream",
     "text": [
      "100%|██████████| 4/4 [15:57<00:00, 239.33s/it]\n"
     ]
    },
    {
     "name": "stdout",
     "output_type": "stream",
     "text": [
      "size of largest connected component = 134\n",
      "sizes of connected components = [102, 134, 1, 2, 1, 1, 1]\n",
      "number of connected components = 7\n",
      "number of isolates = 4\n",
      "(0.15, 0.01)\n"
     ]
    },
    {
     "name": "stderr",
     "output_type": "stream",
     "text": [
      " 25%|██▌       | 1/4 [04:00<12:01, 240.42s/it]"
     ]
    },
    {
     "name": "stdout",
     "output_type": "stream",
     "text": [
      "size of largest connected component = 150\n",
      "sizes of connected components = [150, 1, 1, 1, 1, 1, 1, 1, 1, 3, 1, 1, 1, 1, 2, 1, 1, 1, 1, 1, 1, 1, 1, 1, 1, 2, 1, 2, 3, 1, 1, 1, 1, 1, 1, 2, 1, 1, 2, 1, 1, 1, 1, 2, 1, 1, 1, 34, 2]\n",
      "number of connected components = 49\n",
      "number of isolates = 38\n"
     ]
    },
    {
     "name": "stderr",
     "output_type": "stream",
     "text": [
      " 50%|█████     | 2/4 [08:01<08:01, 240.93s/it]"
     ]
    },
    {
     "name": "stdout",
     "output_type": "stream",
     "text": [
      "size of largest connected component = 148\n",
      "sizes of connected components = [1, 148, 1, 1, 1, 2, 1, 1, 1, 2, 2, 1, 1, 2, 1, 1, 2, 1, 1, 1, 2, 2, 2, 4, 2, 1, 3, 1, 1, 1, 1, 1, 1, 3, 1, 1, 1, 1, 1, 1, 1, 1, 1, 3, 1, 32]\n",
      "number of connected components = 46\n",
      "number of isolates = 31\n"
     ]
    },
    {
     "name": "stderr",
     "output_type": "stream",
     "text": [
      " 75%|███████▌  | 3/4 [12:03<04:01, 241.31s/it]"
     ]
    },
    {
     "name": "stdout",
     "output_type": "stream",
     "text": [
      "size of largest connected component = 156\n",
      "sizes of connected components = [156, 1, 1, 1, 1, 1, 1, 1, 1, 2, 1, 2, 2, 1, 1, 2, 1, 2, 1, 1, 2, 1, 1, 1, 1, 1, 2, 1, 1, 1, 1, 2, 1, 1, 1, 1, 1, 1, 1, 1, 1, 1, 1, 1, 33, 2]\n",
      "number of connected components = 46\n",
      "number of isolates = 35\n"
     ]
    },
    {
     "name": "stderr",
     "output_type": "stream",
     "text": [
      "100%|██████████| 4/4 [16:06<00:00, 241.57s/it]\n"
     ]
    },
    {
     "name": "stdout",
     "output_type": "stream",
     "text": [
      "size of largest connected component = 134\n",
      "sizes of connected components = [134, 2, 1, 1, 2, 1, 1, 2, 2, 2, 1, 3, 1, 2, 1, 1, 1, 1, 2, 1, 1, 2, 1, 2, 2, 1, 1, 1, 1, 1, 1, 1, 1, 1, 1, 1, 1, 2, 1, 1, 2, 2, 1, 2, 1, 1, 1, 2, 1, 1, 1, 1, 1, 1, 1, 1, 1, 1, 1, 1, 28, 1, 3]\n",
      "number of connected components = 63\n",
      "number of isolates = 44\n",
      "(0.15, 0.2575)\n"
     ]
    },
    {
     "name": "stderr",
     "output_type": "stream",
     "text": [
      " 25%|██▌       | 1/4 [03:59<11:58, 239.49s/it]"
     ]
    },
    {
     "name": "stdout",
     "output_type": "stream",
     "text": [
      "size of largest connected component = 224\n",
      "sizes of connected components = [224, 2, 1, 1, 3, 1, 1, 1, 1, 1, 1, 1, 1, 1, 1, 1]\n",
      "number of connected components = 16\n",
      "number of isolates = 13\n"
     ]
    },
    {
     "name": "stderr",
     "output_type": "stream",
     "text": [
      " 50%|█████     | 2/4 [07:58<07:58, 239.06s/it]"
     ]
    },
    {
     "name": "stdout",
     "output_type": "stream",
     "text": [
      "size of largest connected component = 223\n",
      "sizes of connected components = [223, 1, 1, 1, 1, 1, 1, 2, 1, 1, 1, 1, 2, 1, 1, 1, 1, 1]\n",
      "number of connected components = 18\n",
      "number of isolates = 15\n"
     ]
    },
    {
     "name": "stderr",
     "output_type": "stream",
     "text": [
      " 75%|███████▌  | 3/4 [11:58<03:59, 239.43s/it]"
     ]
    },
    {
     "name": "stdout",
     "output_type": "stream",
     "text": [
      "size of largest connected component = 233\n",
      "sizes of connected components = [233, 1, 1, 1, 1, 1, 1, 1, 1, 1]\n",
      "number of connected components = 10\n",
      "number of isolates = 9\n"
     ]
    },
    {
     "name": "stderr",
     "output_type": "stream",
     "text": [
      "100%|██████████| 4/4 [15:57<00:00, 239.41s/it]\n"
     ]
    },
    {
     "name": "stdout",
     "output_type": "stream",
     "text": [
      "size of largest connected component = 229\n",
      "sizes of connected components = [229, 1, 1, 1, 1, 1, 1, 1, 1, 1, 1, 1, 1, 1]\n",
      "number of connected components = 14\n",
      "number of isolates = 13\n",
      "(0.15, 0.505)\n"
     ]
    },
    {
     "name": "stderr",
     "output_type": "stream",
     "text": [
      " 25%|██▌       | 1/4 [04:00<12:01, 240.42s/it]"
     ]
    },
    {
     "name": "stdout",
     "output_type": "stream",
     "text": [
      "size of largest connected component = 241\n",
      "sizes of connected components = [241, 1]\n",
      "number of connected components = 2\n",
      "number of isolates = 1\n"
     ]
    },
    {
     "name": "stderr",
     "output_type": "stream",
     "text": [
      " 50%|█████     | 2/4 [08:02<08:02, 241.41s/it]"
     ]
    },
    {
     "name": "stdout",
     "output_type": "stream",
     "text": [
      "size of largest connected component = 240\n",
      "sizes of connected components = [240, 1, 1]\n",
      "number of connected components = 3\n",
      "number of isolates = 2\n"
     ]
    },
    {
     "name": "stderr",
     "output_type": "stream",
     "text": [
      " 75%|███████▌  | 3/4 [12:06<04:02, 242.63s/it]"
     ]
    },
    {
     "name": "stdout",
     "output_type": "stream",
     "text": [
      "size of largest connected component = 238\n",
      "sizes of connected components = [238, 1, 1, 1, 1]\n",
      "number of connected components = 5\n",
      "number of isolates = 4\n"
     ]
    },
    {
     "name": "stderr",
     "output_type": "stream",
     "text": [
      "100%|██████████| 4/4 [16:08<00:00, 242.17s/it]\n"
     ]
    },
    {
     "name": "stdout",
     "output_type": "stream",
     "text": [
      "size of largest connected component = 226\n",
      "sizes of connected components = [226, 15, 1]\n",
      "number of connected components = 3\n",
      "number of isolates = 1\n",
      "(0.15, 0.7525)\n"
     ]
    },
    {
     "name": "stderr",
     "output_type": "stream",
     "text": [
      " 25%|██▌       | 1/4 [04:03<12:10, 243.46s/it]"
     ]
    },
    {
     "name": "stdout",
     "output_type": "stream",
     "text": [
      "size of largest connected component = 234\n",
      "sizes of connected components = [2, 234, 2, 3, 1]\n",
      "number of connected components = 5\n",
      "number of isolates = 1\n"
     ]
    },
    {
     "name": "stderr",
     "output_type": "stream",
     "text": [
      " 50%|█████     | 2/4 [08:05<08:05, 242.58s/it]"
     ]
    },
    {
     "name": "stdout",
     "output_type": "stream",
     "text": [
      "size of largest connected component = 195\n",
      "sizes of connected components = [195, 34, 1, 3, 2, 1, 1, 1, 1, 1, 1, 1]\n",
      "number of connected components = 12\n",
      "number of isolates = 8\n"
     ]
    },
    {
     "name": "stderr",
     "output_type": "stream",
     "text": [
      " 75%|███████▌  | 3/4 [12:11<04:04, 244.09s/it]"
     ]
    },
    {
     "name": "stdout",
     "output_type": "stream",
     "text": [
      "size of largest connected component = 242\n",
      "sizes of connected components = [242]\n",
      "number of connected components = 1\n",
      "number of isolates = 0\n"
     ]
    },
    {
     "name": "stderr",
     "output_type": "stream",
     "text": [
      "100%|██████████| 4/4 [16:14<00:00, 243.74s/it]\n"
     ]
    },
    {
     "name": "stdout",
     "output_type": "stream",
     "text": [
      "size of largest connected component = 232\n",
      "sizes of connected components = [232, 2, 2, 4, 1, 1]\n",
      "number of connected components = 6\n",
      "number of isolates = 2\n",
      "(0.15, 1.0)\n"
     ]
    },
    {
     "name": "stderr",
     "output_type": "stream",
     "text": [
      " 25%|██▌       | 1/4 [04:02<12:07, 242.65s/it]"
     ]
    },
    {
     "name": "stdout",
     "output_type": "stream",
     "text": [
      "size of largest connected component = 169\n",
      "sizes of connected components = [169, 64, 1, 2, 1, 2, 1, 1, 1]\n",
      "number of connected components = 9\n",
      "number of isolates = 5\n"
     ]
    },
    {
     "name": "stderr",
     "output_type": "stream",
     "text": [
      " 50%|█████     | 2/4 [08:04<08:04, 242.45s/it]"
     ]
    },
    {
     "name": "stdout",
     "output_type": "stream",
     "text": [
      "size of largest connected component = 182\n",
      "sizes of connected components = [182, 57, 1, 1, 1]\n",
      "number of connected components = 5\n",
      "number of isolates = 3\n"
     ]
    },
    {
     "name": "stderr",
     "output_type": "stream",
     "text": [
      " 75%|███████▌  | 3/4 [12:10<04:03, 243.98s/it]"
     ]
    },
    {
     "name": "stdout",
     "output_type": "stream",
     "text": [
      "size of largest connected component = 237\n",
      "sizes of connected components = [237, 2, 2, 1]\n",
      "number of connected components = 4\n",
      "number of isolates = 1\n"
     ]
    },
    {
     "name": "stderr",
     "output_type": "stream",
     "text": [
      "100%|██████████| 4/4 [16:09<00:00, 242.36s/it]"
     ]
    },
    {
     "name": "stdout",
     "output_type": "stream",
     "text": [
      "size of largest connected component = 183\n",
      "sizes of connected components = [183, 51, 1, 2, 1, 1, 1, 1, 1]\n",
      "number of connected components = 9\n",
      "number of isolates = 6\n"
     ]
    },
    {
     "name": "stderr",
     "output_type": "stream",
     "text": [
      "\n"
     ]
    }
   ],
   "source": [
    "for i in social_structures[1:2]:\n",
    "    for prop in props:\n",
    "        for beta in betas:\n",
    "            print((prop, beta))\n",
    "            run_ensemble_experiment(prop, beta, beta, ensemble_size, run_length, i, q_non_committed=q_non_committed, q_committed=q_committed)"
   ]
  },
  {
   "cell_type": "markdown",
   "metadata": {},
   "source": [
    "# Plotting full"
   ]
  },
  {
   "cell_type": "code",
   "execution_count": 7,
   "metadata": {},
   "outputs": [
    {
     "name": "stdout",
     "output_type": "stream",
     "text": [
      "(0.01, 1.0)\n",
      "0.0\n",
      "(0.01, 0.7525)\n",
      "0.0\n",
      "(0.01, 0.505)\n",
      "-0.002066115702479339\n",
      "(0.01, 0.2575)\n",
      "0.2975206611570248\n",
      "(0.01, 0.01)\n",
      "-0.07024793388429751\n",
      "(0.045, 1.0)\n",
      "0.008264462809917356\n",
      "(0.045, 0.7525)\n",
      "-0.002066115702479339\n",
      "(0.045, 0.505)\n",
      "0.014462809917355372\n",
      "(0.045, 0.2575)\n",
      "0.11363636363636362\n",
      "(0.045, 0.01)\n",
      "0.02892561983471076\n",
      "(0.07999999999999999, 1.0)\n",
      "0.014462809917355365\n",
      "(0.07999999999999999, 0.7525)\n",
      "0.01652892561983471\n",
      "(0.07999999999999999, 0.505)\n",
      "0.012396694214876033\n",
      "(0.07999999999999999, 0.2575)\n",
      "-0.010330578512396688\n",
      "(0.07999999999999999, 0.01)\n",
      "-0.03925619834710743\n",
      "(0.11499999999999998, 1.0)\n",
      "0.01652892561983471\n",
      "(0.11499999999999998, 0.7525)\n",
      "0.037190082644628086\n",
      "(0.11499999999999998, 0.505)\n",
      "0.012396694214876033\n",
      "(0.11499999999999998, 0.2575)\n",
      "0.02066115702479339\n",
      "(0.11499999999999998, 0.01)\n",
      "0.012396694214876047\n",
      "(0.15, 1.0)\n",
      "0.09504132231404958\n",
      "(0.15, 0.7525)\n",
      "0.7871900826446281\n",
      "(0.15, 0.505)\n",
      "0.010330578512396695\n",
      "(0.15, 0.2575)\n",
      "0.008264462809917356\n",
      "(0.15, 0.01)\n",
      "0.04545454545454547\n"
     ]
    }
   ],
   "source": [
    "social_structure = 'LyonSchool'\n",
    "\n",
    "Bstar_arr = np.zeros((res,res))\n",
    "Astar_arr = np.zeros((res,res))\n",
    "\n",
    "\n",
    "for i,prop in enumerate(props[::]):\n",
    "    for j, beta in enumerate(betas[::-1]):\n",
    "        print((prop, beta))\n",
    "        fname = f'{social_structure}_{prop}_{beta}_{beta}_{q_non_committed}_{q_committed}_{run_length}_{ensemble_size}'\n",
    "\n",
    "        data = genfromtxt(f'outputs/{fname}.csv', delimiter=',')\n",
    "\n",
    "\n",
    "        A_data = data[0::3,:]\n",
    "        B_data = data[1::3,:]\n",
    "        AB_data = data[2::3,:]\n",
    "\n",
    "        N = A_data[0,0]+B_data[0,0]+AB_data[0,0]\n",
    "\n",
    "        B_data = B_data/N\n",
    "        A_data = A_data/N\n",
    "\n",
    "        Bstar_arr[j,i] = np.median(B_data[:, -1])\n",
    "        Astar_arr[j,i] = np.median(A_data[:, -1])\n",
    "        print(np.median(B_data[:, -1])-np.median(A_data[:, -1]))\n"
   ]
  },
  {
   "cell_type": "code",
   "execution_count": 12,
   "metadata": {},
   "outputs": [
    {
     "data": {
      "image/png": "[encoded data removed]",
      "text/plain": [
       "<Figure size 576x378 with 2 Axes>"
      ]
     },
     "metadata": {
      "needs_background": "light"
     },
     "output_type": "display_data"
    }
   ],
   "source": [
    "fname = f'heatmap_res{res}_{social_structure}_{q_non_committed}_{q_committed}_{run_length}_{ensemble_size}'\n",
    "\n",
    "# print(Bstar_arr)\n",
    "colormap = sb.color_palette(palette=\"RdBu\", n_colors=None, desat=None, as_cmap=True)\n",
    "sb.heatmap((Bstar_arr-Astar_arr)[::-1,:], xticklabels=np.round_(props[::], decimals=3), yticklabels=np.round_(betas[::], decimals=3), cbar_kws={'label':r'$n_{B}^{\\ast}-n_{A}^{\\ast}$'}, cmap=colormap, center=0)\n",
    "plt.xlabel('p')\n",
    "plt.ylabel(r'$\\beta$')\n",
    "plt.savefig(f'figures/{fname}.pdf')"
   ]
  },
  {
   "attachments": {},
   "cell_type": "markdown",
   "metadata": {},
   "source": [
    "Looking at structural phase diagram"
   ]
  },
  {
   "cell_type": "code",
   "execution_count": 14,
   "metadata": {},
   "outputs": [
    {
     "name": "stdout",
     "output_type": "stream",
     "text": [
      "(0.01, 1.0)\n",
      "(4, 242)\n",
      "0.008264462809917356\n",
      "(0.01, 0.7525)\n",
      "(4, 242)\n",
      "0.008264462809917356\n",
      "(0.01, 0.505)\n",
      "(4, 242)\n",
      "0.009297520661157025\n",
      "(0.01, 0.2575)\n",
      "(4, 242)\n",
      "0.35537190082644626\n",
      "(0.01, 0.01)\n",
      "(4, 242)\n",
      "0.1652892561983471\n",
      "(0.045, 1.0)\n",
      "(4, 242)\n",
      "0.03202479338842975\n",
      "(0.045, 0.7525)\n",
      "(4, 242)\n",
      "0.03409090909090909\n",
      "(0.045, 0.505)\n",
      "(4, 242)\n",
      "0.028925619834710745\n",
      "(0.045, 0.2575)\n",
      "(4, 242)\n",
      "0.15702479338842976\n",
      "(0.045, 0.01)\n",
      "(4, 242)\n",
      "0.17148760330578514\n",
      "(0.07999999999999999, 1.0)\n",
      "(4, 242)\n",
      "0.03202479338842975\n",
      "(0.07999999999999999, 0.7525)\n",
      "(4, 242)\n",
      "0.0371900826446281\n",
      "(0.07999999999999999, 0.505)\n",
      "(4, 242)\n",
      "0.024793388429752067\n",
      "(0.07999999999999999, 0.2575)\n",
      "(4, 242)\n",
      "0.08367768595041322\n",
      "(0.07999999999999999, 0.01)\n",
      "(4, 242)\n",
      "0.15495867768595042\n",
      "(0.11499999999999998, 1.0)\n",
      "(4, 242)\n",
      "0.01962809917355372\n",
      "(0.11499999999999998, 0.7525)\n",
      "(4, 242)\n",
      "0.03615702479338843\n",
      "(0.11499999999999998, 0.505)\n",
      "(4, 242)\n",
      "0.010330578512396695\n",
      "(0.11499999999999998, 0.2575)\n",
      "(4, 242)\n",
      "0.08057851239669421\n",
      "(0.11499999999999998, 0.01)\n",
      "(4, 242)\n",
      "0.1559917355371901\n",
      "(0.15, 1.0)\n",
      "(4, 242)\n",
      "0.015495867768595042\n",
      "(0.15, 0.7525)\n",
      "(4, 242)\n",
      "0.011363636363636364\n",
      "(0.15, 0.505)\n",
      "(4, 242)\n",
      "0.008264462809917356\n",
      "(0.15, 0.2575)\n",
      "(4, 242)\n",
      "0.05165289256198347\n",
      "(0.15, 0.01)\n",
      "(4, 242)\n",
      "0.15289256198347106\n"
     ]
    },
    {
     "data": {
      "image/png": "[encoded data removed]",
      "text/plain": [
       "<Figure size 576x378 with 2 Axes>"
      ]
     },
     "metadata": {
      "needs_background": "light"
     },
     "output_type": "display_data"
    }
   ],
   "source": [
    "import pandas as pd\n",
    "def str_to_list(s): # this never got used in the end, but it converts strings like \"['A', 'B']\" to lists like ['A', 'B']\n",
    "    s = s.replace('[', '')\n",
    "    s = s.replace(']', '')\n",
    "    s = s.replace(\"'\", '')\n",
    "    s = s.replace(\" \", '')\n",
    "    l = s.split(',')\n",
    "    return l\n",
    "def count_np_occurrences(x, a):\n",
    "    unique, counts = np.unique(a, return_counts=True)\n",
    "    d = dict(zip(unique, counts))\n",
    "    return d[x]\n",
    "\n",
    "\n",
    "social_structure = 'LyonSchool'\n",
    "\n",
    "singleton_density_arr = np.zeros((res,res))\n",
    "\n",
    "\n",
    "for i,prop in enumerate(props[::]):\n",
    "    for j, beta in enumerate(betas[::-1]):\n",
    "        print((prop, beta))\n",
    "        fname = f'{social_structure}_{prop}_{beta}_{beta}_{q_non_committed}_{q_committed}_{run_length}_{ensemble_size}'\n",
    "        data = pd.read_csv(f'aux_outputs/{fname}.csv', header=None)\n",
    "\n",
    "        ### split data according to how it is written into the file\n",
    "        initial_deg = data.iloc[0::4].to_numpy(dtype=int)\n",
    "        print(initial_deg.shape)\n",
    "        # rewire_freq = data.iloc[1::4].to_numpy(dtype=np.int64)[:,0]\n",
    "        final_deg = data.iloc[2::4].to_numpy(dtype=int)\n",
    "        final_vocab = data.iloc[3::4].values.tolist()\n",
    "        ###\n",
    "\n",
    "        n = initial_deg.shape[1]\n",
    "        total_singletons = count_np_occurrences(0, final_deg)\n",
    "        av_final_singletons_density = total_singletons/(ensemble_size*n)\n",
    "        singleton_density_arr[j,i] = av_final_singletons_density\n",
    "        print(av_final_singletons_density)\n",
    "\n",
    "\n",
    "fname = f'singleton_heatmap_res{res}_{social_structure}_{q_non_committed}_{q_committed}_{run_length}_{ensemble_size}'\n",
    "\n",
    "# print(Bstar_arr)\n",
    "colormap = sb.color_palette(palette=\"Greys\", n_colors=None, desat=None, as_cmap=True)\n",
    "sb.heatmap(singleton_density_arr[::-1,:], xticklabels=np.round_(props[::], decimals=3), yticklabels=np.round_(betas[::], decimals=3), cbar_kws={'label':r'$n_{i}$'}, cmap=colormap)\n",
    "plt.xlabel('p')\n",
    "plt.ylabel(r'$\\beta$')\n",
    "plt.savefig(f'figures/{fname}.pdf')\n"
   ]
  },
  {
   "cell_type": "code",
   "execution_count": null,
   "metadata": {},
   "outputs": [],
   "source": []
  }
 ],
 "metadata": {
  "kernelspec": {
   "display_name": "Python 3.7.12 ('complexityandnetworks')",
   "language": "python",
   "name": "python3"
  },
  "language_info": {
   "codemirror_mode": {
    "name": "ipython",
    "version": 3
   },
   "file_extension": ".py",
   "mimetype": "text/x-python",
   "name": "python",
   "nbconvert_exporter": "python",
   "pygments_lexer": "ipython3",
   "version": "3.7.12 | packaged by conda-forge | (default, Oct 26 2021, 05:59:23) \n[Clang 11.1.0 ]"
  },
  "orig_nbformat": 4,
  "vscode": {
   "interpreter": {
    "hash": "35d396ac993c851e0b0e992d34bce81f4de70a22ad3d03be42e3ab5021274cce"
   }
  }
 },
 "nbformat": 4,
 "nbformat_minor": 2
}
