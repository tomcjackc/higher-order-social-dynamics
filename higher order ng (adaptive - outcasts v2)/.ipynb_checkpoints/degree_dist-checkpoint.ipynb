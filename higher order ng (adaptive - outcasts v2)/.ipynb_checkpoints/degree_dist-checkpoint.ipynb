{
 "cells": [
  {
   "cell_type": "markdown",
   "metadata": {},
   "source": [
    "# Investigating degree distributions"
   ]
  },
  {
   "cell_type": "code",
   "execution_count": 42,
   "metadata": {},
   "outputs": [
    {
     "name": "stdout",
     "output_type": "stream",
     "text": [
      "update8\n"
     ]
    }
   ],
   "source": [
    "from enum import unique\n",
    "import importlib\n",
    "import xgi\n",
    "import matplotlib.pyplot as plt\n",
    "import random\n",
    "import numpy as np\n",
    "import itertools\n",
    "from HONG import *\n",
    "import HONG\n",
    "importlib.reload(HONG)\n",
    "import csv\n",
    "from tqdm import tqdm\n",
    "import csv\n",
    "from numpy import genfromtxt\n",
    "import matplotlib as mpl\n",
    "import seaborn as sb\n",
    "import pandas as pd\n",
    "\n",
    "mpl.style.use('report_style.mplstyle')"
   ]
  },
  {
   "cell_type": "code",
   "execution_count": 43,
   "metadata": {},
   "outputs": [],
   "source": [
    "props = [0.03]\n",
    "betas = [0.27]\n",
    "q_non_committed = 1\n",
    "q_committed = 1\n",
    "\n",
    "ensemble_size = 5\n",
    "run_length = 10**5\n",
    "social_structures = ['InVS15', 'LyonSchool', 'SFHH', 'Thiers13']"
   ]
  },
  {
   "cell_type": "code",
   "execution_count": 44,
   "metadata": {},
   "outputs": [
    {
     "name": "stdout",
     "output_type": "stream",
     "text": [
      "(0.03, 0.27)\n"
     ]
    },
    {
     "name": "stderr",
     "output_type": "stream",
     "text": [
      "100%|██████████| 5/5 [01:25<00:00, 17.12s/it]\n"
     ]
    }
   ],
   "source": [
    "for i in social_structures[1:2]:\n",
    "    for prop in props:\n",
    "        for beta in betas:\n",
    "            print((prop, beta))\n",
    "            run_ensemble_experiment(prop, beta, beta, ensemble_size, run_length, i, q_non_committed=q_non_committed, q_committed=q_committed)"
   ]
  },
  {
   "cell_type": "markdown",
   "metadata": {},
   "source": [
    "# Plotting degree distribution before and after interactions"
   ]
  },
  {
   "cell_type": "code",
   "execution_count": 71,
   "metadata": {},
   "outputs": [
    {
     "name": "stdout",
     "output_type": "stream",
     "text": [
      "density of singletons with vocab=['B']: 0.13725490196078433\n",
      "final singleton density: 0.12644628099173555\n"
     ]
    },
    {
     "data": {
      "text/plain": [
       "(0.0, 40.0)"
      ]
     },
     "execution_count": 71,
     "metadata": {},
     "output_type": "execute_result"
    },
    {
     "data": {
      "image/png": "[encoded data removed]",
      "text/plain": [
       "<Figure size 576x378 with 1 Axes>"
      ]
     },
     "metadata": {
      "needs_background": "light"
     },
     "output_type": "display_data"
    }
   ],
   "source": [
    "def str_to_list(s): # this never got used in the end, but it converts strings like \"['A', 'B']\" to lists like ['A', 'B']\n",
    "    s = s.replace('[', '')\n",
    "    s = s.replace(']', '')\n",
    "    s = s.replace(\"'\", '')\n",
    "    s = s.replace(\" \", '')\n",
    "    l = s.split(',')\n",
    "    return l\n",
    "def count_np_occurrences(x, a):\n",
    "    unique, counts = np.unique(a, return_counts=True)\n",
    "    d = dict(zip(unique, counts))\n",
    "    return d[x]\n",
    "\n",
    "### set params and load data\n",
    "social_structure = 'LyonSchool'\n",
    "output_fname = f'{social_structure}_{prop}_{beta}_{beta}_{q_non_committed}_{q_committed}_{run_length}_{ensemble_size}'\n",
    "data = pd.read_csv(f'aux_outputs/{output_fname}.csv', header=None)\n",
    "###\n",
    "\n",
    "### split data according to how it is written into the file\n",
    "initial_deg = data.iloc[0::4].to_numpy(dtype=int)\n",
    "# rewire_freq = data.iloc[1::4].to_numpy(dtype=np.int64)[:,0]\n",
    "final_deg = data.iloc[2::4].to_numpy(dtype=int)\n",
    "final_vocab = data.iloc[3::4].values.tolist()\n",
    "###\n",
    "\n",
    "### count the number of 0 in the 2-d degree array (total singletons over all runs)\n",
    "total_singletons = count_np_occurrences(0, final_deg)\n",
    "### find where the singletons are located in the 2-d array\n",
    "singleton_locs = np.where(final_deg == 0)\n",
    "\n",
    "### count the number of singletons that have vocab = ['B']\n",
    "match_counter = 0\n",
    "for i in range(total_singletons):\n",
    "    loc = (singleton_locs[0][i], singleton_locs[1][i])\n",
    "    if final_vocab[loc[0]][loc[1]] == \"['B']\":\n",
    "        match_counter += 1\n",
    "###\n",
    "\n",
    "### find the fraction of singletons which have ['B']\n",
    "B_singletons_density = match_counter/total_singletons\n",
    "print(f'density of singletons with vocab=[\\'B\\']: {B_singletons_density}')\n",
    "###\n",
    "\n",
    "### find the average singleton density across all runs\n",
    "n = initial_deg.shape[1]\n",
    "av_final_singletons_density = total_singletons/(ensemble_size*n)\n",
    "print(f'final singleton density: {av_final_singletons_density}')\n",
    "###\n",
    "\n",
    "### plot the initial and final degree distributions in the same bins\n",
    "plt.figure(1)\n",
    "same_bin_edges = np.linspace(0, 40, num=20, endpoint=True)\n",
    "\n",
    "#initial_bin_edges = np.histogram_bin_edges(initial_deg, bins=20)\n",
    "initial_deg_binned_freq = plt.hist(initial_deg[0], bins=same_bin_edges, label='Initial')\n",
    "\n",
    "#final_bin_edges = np.histogram_bin_edges(final_deg, bins=20)\n",
    "final_deg_binned_freq = plt.hist(final_deg[0], bins=same_bin_edges, label='Final')\n",
    "plt.legend()\n",
    "plt.xlim((0, 40))\n",
    "###\n"
   ]
  },
  {
   "cell_type": "code",
   "execution_count": null,
   "metadata": {},
   "outputs": [],
   "source": []
  },
  {
   "cell_type": "code",
   "execution_count": null,
   "metadata": {},
   "outputs": [],
   "source": []
  }
 ],
 "metadata": {
  "kernelspec": {
   "display_name": "Python 3",
   "language": "python",
   "name": "python3"
  },
  "language_info": {
   "codemirror_mode": {
    "name": "ipython",
    "version": 3
   },
   "file_extension": ".py",
   "mimetype": "text/x-python",
   "name": "python",
   "nbconvert_exporter": "python",
   "pygments_lexer": "ipython3",
   "version": "3.8.5"
  },
  "vscode": {
   "interpreter": {
    "hash": "35d396ac993c851e0b0e992d34bce81f4de70a22ad3d03be42e3ab5021274cce"
   }
  }
 },
 "nbformat": 4,
 "nbformat_minor": 2
}
